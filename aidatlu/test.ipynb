{
 "cells": [
  {
   "cell_type": "code",
   "execution_count": 1,
   "metadata": {},
   "outputs": [],
   "source": [
    "import uhal\n",
    "\n",
    "from tlu import AidaTLU\n",
    "import time\n",
    "import logger\n",
    "import pandas as pd\n",
    "import numpy as np"
   ]
  },
  {
   "cell_type": "code",
   "execution_count": 1,
   "metadata": {},
   "outputs": [
    {
     "name": "stderr",
     "output_type": "stream",
     "text": [
      "2023-05-11 15:40:59,773 [I2CCore           ] - WARNING Enabling Enclustra I2C bus might have failed. This could prevent from talking to the I2C slaves on the TLU.\n",
      "2023-05-11 15:40:59,904 [AidaTLU           ] - INFO    Found device with ID 0x801f12f1c81b\n",
      "2023-05-11 15:40:59,905 [LED Controller    ] - INFO    Initializing LED Control\n",
      "2023-05-11 15:40:59,937 [Voltage Controller] - INFO    Initializing Power DAC Control\n",
      "2023-05-11 15:40:59,941 [Voltage Controller] - INFO    Set external DAC reference\n",
      "2023-05-11 15:40:59,944 [Clock Controller  ] - INFO    Initializing Clock Chip\n",
      "2023-05-11 15:40:59,945 [Clock Controller  ] - INFO    Writing clock configuration\n",
      "2023-05-11 15:41:01,341 [Clock Controller  ] - SUCCESS Done writing clock configuration \n",
      "2023-05-11 15:41:01,366 [Output Controller ] - INFO    Clock LEMO output disabled\n",
      "2023-05-11 15:41:01,377 [Output Controller ] - INFO    HDMI Channel 1 disabled\n",
      "2023-05-11 15:41:01,390 [Output Controller ] - INFO    HDMI Channel 2 disabled\n",
      "2023-05-11 15:41:01,415 [Output Controller ] - INFO    HDMI Channel 3 disabled\n",
      "2023-05-11 15:41:01,433 [Output Controller ] - INFO    HDMI Channel 4 disabled\n",
      "2023-05-11 15:41:01,435 [AidaTLU           ] - INFO    Run active: False\n",
      "2023-05-11 15:41:01,437 [Trigger Controller] - INFO    Trigger Veto set to: True\n"
     ]
    }
   ],
   "source": [
    "import uhal\n",
    "\n",
    "from tlu import AidaTLU\n",
    "import time\n",
    "import logger\n",
    "import pandas as pd\n",
    "import numpy as np\n",
    "\n",
    "uhal.setLogLevelTo(uhal.LogLevel.NOTICE)\n",
    "manager = uhal.ConnectionManager(\"file://./misc/aida_tlu_connection.xml\")\n",
    "hw = uhal.HwInterface(manager.getDevice(\"aida_tlu.controlhub\"))\n",
    "\n",
    "tlu = AidaTLU(hw)\n"
   ]
  },
  {
   "cell_type": "code",
   "execution_count": 4,
   "metadata": {},
   "outputs": [
    {
     "name": "stderr",
     "output_type": "stream",
     "text": [
      "2023-05-11 15:41:25,068 [AidaTLU           ] - INFO    Configure DUT 1 in EUDET test mode\n",
      "2023-05-11 15:41:25,100 [Output Controller ] - INFO    HDMI Channel 1 enabled\n",
      "2023-05-11 15:41:25,106 [Output Controller ] - INFO    Clock source of HDMI Channel 1 set to off.\n",
      "2023-05-11 15:41:25,107 [DUT Logic         ] - INFO    DUT mask is set to 1\n",
      "2023-05-11 15:41:25,108 [DUT Logic         ] - INFO    DUT mask mode is set to 0\n",
      "2023-05-11 15:41:25,109 [Trigger Controller] - INFO    Set internal trigger frequency to: 100 Hz\n"
     ]
    }
   ],
   "source": [
    "tlu.test_configuration()"
   ]
  },
  {
   "cell_type": "code",
   "execution_count": 3,
   "metadata": {},
   "outputs": [
    {
     "name": "stderr",
     "output_type": "stream",
     "text": [
      "2023-05-11 15:41:09,531 [AidaTLU           ] - INFO    Run active: True\n",
      "2023-05-11 15:41:09,535 [Trigger Controller] - INFO    Trigger Veto set to: False\n",
      "2023-05-11 15:41:16,783 [Trigger Controller] - INFO    Trigger Veto set to: True\n",
      "2023-05-11 15:41:16,783 [AidaTLU           ] - INFO    Run active: False\n"
     ]
    }
   ],
   "source": [
    "tlu.run()"
   ]
  },
  {
   "cell_type": "code",
   "execution_count": 9,
   "metadata": {},
   "outputs": [
    {
     "name": "stderr",
     "output_type": "stream",
     "text": [
      "2023-05-11 15:39:34,689 [AidaTLU           ] - INFO    fifo csr: 16 fifo fill level: 16\n",
      "2023-05-11 15:39:34,690 [AidaTLU           ] - INFO    post: 3579 pre: 17348\n",
      "2023-05-11 15:39:34,691 [AidaTLU           ] - INFO    time stamp: 6939392033\n"
     ]
    }
   ],
   "source": [
    "tlu.status()"
   ]
  },
  {
   "cell_type": "code",
   "execution_count": null,
   "metadata": {},
   "outputs": [],
   "source": []
  }
 ],
 "metadata": {
  "kernelspec": {
   "display_name": "aidatlu",
   "language": "python",
   "name": "python3"
  },
  "language_info": {
   "codemirror_mode": {
    "name": "ipython",
    "version": 3
   },
   "file_extension": ".py",
   "mimetype": "text/x-python",
   "name": "python",
   "nbconvert_exporter": "python",
   "pygments_lexer": "ipython3",
   "version": "3.10.10"
  },
  "orig_nbformat": 4
 },
 "nbformat": 4,
 "nbformat_minor": 2
}
