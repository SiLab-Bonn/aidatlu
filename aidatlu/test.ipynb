{
 "cells": [
  {
   "cell_type": "code",
   "execution_count": 1,
   "metadata": {},
   "outputs": [],
   "source": [
    "import uhal\n",
    "\n",
    "from tlu import AidaTLU\n",
    "import time\n",
    "import logger\n",
    "import pandas as pd\n",
    "import numpy as np\n",
    "\n"
   ]
  },
  {
   "cell_type": "code",
   "execution_count": 2,
   "metadata": {},
   "outputs": [
    {
     "name": "stderr",
     "output_type": "stream",
     "text": [
      "2023-04-28 14:26:37,975 [I2CCore           ] - WARNING Enabling Enclustra I2C bus might have failed. This could prevent from talking to the I2C slaves on the TLU.\n",
      "2023-04-28 14:26:38,136 [AidaTLU           ] - INFO    Found device with ID 0x801f12f1c81b\n",
      "2023-04-28 14:26:38,136 [LED Controller    ] - INFO    Initializing LED Control\n",
      "2023-04-28 14:26:38,158 [Voltage Controller] - INFO    Initializing Power DAC Control\n",
      "2023-04-28 14:26:38,163 [Voltage Controller] - INFO    Set external DAC reference\n",
      "2023-04-28 14:26:38,163 [Clock Controller  ] - INFO    Initializing Clock Chip\n",
      "2023-04-28 14:26:38,164 [Clock Controller  ] - INFO    Writing Clock Configuration\n",
      "2023-04-28 14:26:39,508 [Clock Controller  ] - INFO    DONE\n"
     ]
    }
   ],
   "source": [
    "uhal.setLogLevelTo(uhal.LogLevel.NOTICE)\n",
    "manager = uhal.ConnectionManager(\"file://./misc/aida_tlu_connection.xml\")\n",
    "hw = uhal.HwInterface(manager.getDevice(\"aida_tlu.controlhub\"))\n",
    "\n",
    "tlu = AidaTLU(hw)"
   ]
  },
  {
   "cell_type": "code",
   "execution_count": 4,
   "metadata": {},
   "outputs": [],
   "source": [
    "tlu.led_controller.switch_led(1,\"off\")"
   ]
  },
  {
   "cell_type": "code",
   "execution_count": 3,
   "metadata": {},
   "outputs": [
    {
     "name": "stderr",
     "output_type": "stream",
     "text": [
      "2023-04-28 14:26:42,643 [Output Controller ] - INFO    Clock LEMO output enabled\n"
     ]
    }
   ],
   "source": [
    "tlu.output_controller.clock_lemo_output(True)"
   ]
  },
  {
   "cell_type": "code",
   "execution_count": 4,
   "metadata": {},
   "outputs": [
    {
     "name": "stderr",
     "output_type": "stream",
     "text": [
      "2023-04-28 14:26:44,467 [Clock Controller  ] - INFO    Internal trigger frequency: 100 Hz\n"
     ]
    }
   ],
   "source": [
    "tlu.clock_controller.set_internal_trigger_frequency(100)"
   ]
  },
  {
   "cell_type": "code",
   "execution_count": null,
   "metadata": {},
   "outputs": [],
   "source": []
  }
 ],
 "metadata": {
  "kernelspec": {
   "display_name": "aidatlu",
   "language": "python",
   "name": "python3"
  },
  "language_info": {
   "codemirror_mode": {
    "name": "ipython",
    "version": 3
   },
   "file_extension": ".py",
   "mimetype": "text/x-python",
   "name": "python",
   "nbconvert_exporter": "python",
   "pygments_lexer": "ipython3",
   "version": "3.10.10"
  },
  "orig_nbformat": 4
 },
 "nbformat": 4,
 "nbformat_minor": 2
}
