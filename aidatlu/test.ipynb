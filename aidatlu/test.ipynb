{
 "cells": [
  {
   "cell_type": "code",
   "execution_count": 6,
   "metadata": {},
   "outputs": [],
   "source": [
    "import uhal\n",
    "\n",
    "from tlu import AidaTLU\n",
    "import time\n",
    "import logger\n",
    "import pandas as pd\n",
    "import numpy as np\n",
    "import tables as tb"
   ]
  },
  {
   "cell_type": "code",
   "execution_count": 1,
   "metadata": {},
   "outputs": [
    {
     "name": "stderr",
     "output_type": "stream",
     "text": [
      "2023-05-22 14:38:35,296 [I2CCore           ] - WARNING Enabling Enclustra I2C bus might have failed. This could prevent from talking to the I2C slaves on the TLU.\n",
      "2023-05-22 14:38:35,409 [AidaTLU           ] - INFO    Found device with ID 0x801f12f1c81b\n",
      "2023-05-22 14:38:35,410 [Clock Controller  ] - INFO    Initializing Clock Chip\n",
      "2023-05-22 14:38:35,411 [Clock Controller  ] - INFO    Writing clock configuration\n",
      "2023-05-22 14:38:36,746 [Clock Controller  ] - SUCCESS Done writing clock configuration \n",
      "2023-05-22 14:38:36,746 [IO Expander       ] - INFO    Initializing IO expander\n",
      "2023-05-22 14:38:36,791 [Voltage Controller] - INFO    Initializing DAC Control\n",
      "2023-05-22 14:38:36,794 [Voltage Controller] - INFO    Set external DAC reference\n",
      "2023-05-22 14:38:36,797 [Voltage Controller] - INFO    Set external DAC reference\n",
      "2023-05-22 14:38:36,799 [Voltage Controller] - INFO    Set external DAC reference\n",
      "2023-05-22 14:38:36,822 [IO Expander       ] - INFO    Clock LEMO output disabled\n",
      "2023-05-22 14:38:36,844 [IO Expander       ] - INFO    HDMI Channel 1 disabled\n",
      "2023-05-22 14:38:36,860 [IO Expander       ] - INFO    HDMI Channel 2 disabled\n",
      "2023-05-22 14:38:36,872 [IO Expander       ] - INFO    HDMI Channel 3 disabled\n",
      "2023-05-22 14:38:36,887 [IO Expander       ] - INFO    HDMI Channel 4 disabled\n",
      "2023-05-22 14:38:36,899 [Voltage Controller] - INFO    Threshold of input 1 set to 1.2 V\n",
      "2023-05-22 14:38:36,901 [Voltage Controller] - INFO    Threshold of input 2 set to 1.2 V\n",
      "2023-05-22 14:38:36,906 [Voltage Controller] - INFO    Threshold of input 3 set to 1.2 V\n",
      "2023-05-22 14:38:36,908 [Voltage Controller] - INFO    Threshold of input 4 set to 1.2 V\n",
      "2023-05-22 14:38:36,911 [Voltage Controller] - INFO    Threshold of input 5 set to 1.2 V\n",
      "2023-05-22 14:38:36,913 [Voltage Controller] - INFO    Threshold of input 6 set to 1.2 V\n",
      "2023-05-22 14:38:36,914 [AidaTLU           ] - INFO    Run active: False\n",
      "2023-05-22 14:38:36,915 [Trigger Controller] - INFO    Trigger Veto set to: True\n",
      "2023-05-22 14:38:36,916 [AidaTLU           ] - SUCCESS Done\n"
     ]
    }
   ],
   "source": [
    "import uhal\n",
    "\n",
    "from tlu import AidaTLU\n",
    "import time\n",
    "import logger\n",
    "import pandas as pd  \n",
    "import numpy as np\n",
    "\n",
    "uhal.setLogLevelTo(uhal.LogLevel.NOTICE)\n",
    "manager = uhal.ConnectionManager(\"file://./misc/aida_tlu_connection.xml\")\n",
    "hw = uhal.HwInterface(manager.getDevice(\"aida_tlu.controlhub\"))\n",
    "\n",
    "tlu = AidaTLU(hw)\n"
   ]
  },
  {
   "cell_type": "code",
   "execution_count": 2,
   "metadata": {},
   "outputs": [
    {
     "name": "stderr",
     "output_type": "stream",
     "text": [
      "2023-05-22 14:38:37,745 [IO Expander       ] - INFO    HDMI Channel 1 enabled\n",
      "2023-05-22 14:38:37,761 [IO Expander       ] - INFO    HDMI Channel 2 enabled\n",
      "2023-05-22 14:38:37,777 [IO Expander       ] - INFO    HDMI Channel 3 enabled\n",
      "2023-05-22 14:38:37,791 [IO Expander       ] - INFO    HDMI Channel 4 enabled\n",
      "2023-05-22 14:38:37,795 [IO Expander       ] - INFO    Clock source of HDMI Channel 1 set to off.\n",
      "2023-05-22 14:38:37,799 [IO Expander       ] - INFO    Clock source of HDMI Channel 2 set to off.\n",
      "2023-05-22 14:38:37,804 [IO Expander       ] - INFO    Clock source of HDMI Channel 3 set to off.\n",
      "2023-05-22 14:38:37,808 [IO Expander       ] - INFO    Clock source of HDMI Channel 4 set to off.\n",
      "2023-05-22 14:38:37,825 [IO Expander       ] - INFO    Clock LEMO output disabled\n",
      "2023-05-22 14:38:37,827 [Voltage Controller] - INFO    Threshold of input 1 set to -0.04 V\n",
      "2023-05-22 14:38:37,830 [Voltage Controller] - INFO    Threshold of input 2 set to -0.04 V\n",
      "2023-05-22 14:38:37,832 [Voltage Controller] - INFO    Threshold of input 3 set to -0.04 V\n",
      "2023-05-22 14:38:37,835 [Voltage Controller] - INFO    Threshold of input 4 set to -0.04 V\n",
      "2023-05-22 14:38:37,841 [Voltage Controller] - INFO    Threshold of input 5 set to -0.2 V\n",
      "2023-05-22 14:38:37,846 [Voltage Controller] - INFO    Threshold of input 6 set to -0.2 V\n",
      "2023-05-22 14:38:37,847 [Trigger Controller] - INFO    Pulse stretch is set to 34636833\n",
      "2023-05-22 14:38:37,848 [Trigger Controller] - INFO    Pulse Delay is set to 0\n",
      "2023-05-22 14:38:37,849 [Trigger Controller] - INFO    Trigger mask: 2\n",
      "2023-05-22 14:38:37,850 [Trigger Controller] - INFO    Trigger on falling edge\n",
      "2023-05-22 14:38:37,850 [DUT Logic         ] - INFO    DUT mask set to 1\n",
      "2023-05-22 14:38:37,851 [DUT Logic         ] - INFO    DUT mask mode is set to 0\n",
      "2023-05-22 14:38:37,853 [DUT Logic         ] - INFO    DUT mask mode modifier is set to 0\n",
      "2023-05-22 14:38:37,854 [DUT Logic         ] - INFO    DUT ignore busy is set to 0\n",
      "2023-05-22 14:38:37,856 [Trigger Controller] - INFO    Set internal trigger frequency to: 0 Hz\n"
     ]
    }
   ],
   "source": [
    "tlu.default_configuration()"
   ]
  },
  {
   "cell_type": "code",
   "execution_count": 7,
   "metadata": {},
   "outputs": [
    {
     "name": "stderr",
     "output_type": "stream",
     "text": [
      "2023-05-22 14:49:31,394 [AidaTLU           ] - INFO    Run active: True\n",
      "2023-05-22 14:49:31,401 [Trigger Controller] - INFO    Trigger Veto set to: False\n",
      "2023-05-22 14:49:31,419 [AidaTLU           ] - INFO    Run time: 0.010 s, Total trigger number: 13, Trigger frequency: 1002.74 Hz\n",
      "2023-05-22 14:49:36,884 [AidaTLU           ] - INFO    Run time: 5.479 s, Total trigger number: 2208, Trigger frequency: 402.44 Hz\n",
      "2023-05-22 14:49:42,150 [AidaTLU           ] - INFO    Run time: 10.745 s, Total trigger number: 4323, Trigger frequency: 402.05 Hz\n",
      "2023-05-22 14:49:47,309 [AidaTLU           ] - INFO    Run time: 15.904 s, Total trigger number: 6396, Trigger frequency: 401.98 Hz\n",
      "2023-05-22 14:49:52,494 [AidaTLU           ] - INFO    Run time: 21.088 s, Total trigger number: 8478, Trigger frequency: 401.88 Hz\n",
      "2023-05-22 14:49:57,705 [AidaTLU           ] - INFO    Run time: 26.299 s, Total trigger number: 10571, Trigger frequency: 401.83 Hz\n",
      "2023-05-22 14:50:03,043 [AidaTLU           ] - INFO    Run time: 31.638 s, Total trigger number: 12716, Trigger frequency: 401.83 Hz\n",
      "2023-05-22 14:50:08,306 [AidaTLU           ] - INFO    Run time: 36.900 s, Total trigger number: 14830, Trigger frequency: 401.82 Hz\n",
      "2023-05-22 14:50:13,604 [AidaTLU           ] - INFO    Run time: 42.198 s, Total trigger number: 16958, Trigger frequency: 401.79 Hz\n",
      "2023-05-22 14:50:18,845 [AidaTLU           ] - INFO    Run time: 47.440 s, Total trigger number: 19063, Trigger frequency: 401.79 Hz\n",
      "2023-05-22 14:50:24,039 [AidaTLU           ] - INFO    Run time: 52.633 s, Total trigger number: 21150, Trigger frequency: 401.78 Hz\n",
      "2023-05-22 14:50:29,337 [AidaTLU           ] - INFO    Run time: 57.932 s, Total trigger number: 23278, Trigger frequency: 401.77 Hz\n",
      "2023-05-22 14:50:33,386 [Trigger Controller] - INFO    Trigger Veto set to: True\n",
      "2023-05-22 14:50:33,387 [AidaTLU           ] - INFO    Run active: False\n"
     ]
    }
   ],
   "source": [
    "tlu.run()"
   ]
  },
  {
   "cell_type": "code",
   "execution_count": 10,
   "metadata": {},
   "outputs": [
    {
     "name": "stderr",
     "output_type": "stream",
     "text": [
      "2023-05-22 14:38:25,922 [IO Expander       ] - INFO    Clock source of HDMI Channel 1 set to off.\n"
     ]
    }
   ],
   "source": [
    "tlu.io_controller.clock_hdmi_output(1,\"off\")"
   ]
  },
  {
   "cell_type": "code",
   "execution_count": null,
   "metadata": {},
   "outputs": [],
   "source": []
  }
 ],
 "metadata": {
  "kernelspec": {
   "display_name": "aidatlu",
   "language": "python",
   "name": "python3"
  },
  "language_info": {
   "codemirror_mode": {
    "name": "ipython",
    "version": 3
   },
   "file_extension": ".py",
   "mimetype": "text/x-python",
   "name": "python",
   "nbconvert_exporter": "python",
   "pygments_lexer": "ipython3",
   "version": "3.10.10"
  },
  "orig_nbformat": 4
 },
 "nbformat": 4,
 "nbformat_minor": 2
}
