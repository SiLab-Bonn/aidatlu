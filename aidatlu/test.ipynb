{
 "cells": [
  {
   "cell_type": "code",
   "execution_count": 6,
   "metadata": {},
   "outputs": [],
   "source": [
    "import uhal\n",
    "\n",
    "from tlu import AidaTLU\n",
    "import time\n",
    "import logger\n",
    "import pandas as pd\n",
    "import numpy as np\n",
    "import tables as tb"
   ]
  },
  {
   "cell_type": "code",
   "execution_count": 1,
   "metadata": {},
   "outputs": [
    {
     "name": "stderr",
     "output_type": "stream",
     "text": [
      "2023-05-19 13:51:03,571 [I2CCore           ] - WARNING Enabling Enclustra I2C bus might have failed. This could prevent from talking to the I2C slaves on the TLU.\n",
      "2023-05-19 13:51:03,683 [AidaTLU           ] - INFO    Found device with ID 0x801f12f1c81b\n",
      "2023-05-19 13:51:03,684 [Clock Controller  ] - INFO    Initializing Clock Chip\n",
      "2023-05-19 13:51:03,684 [Clock Controller  ] - INFO    Writing clock configuration\n",
      "2023-05-19 13:51:05,001 [Clock Controller  ] - SUCCESS Done writing clock configuration \n",
      "2023-05-19 13:51:05,002 [IO Expander       ] - INFO    Initializing IO expander\n",
      "2023-05-19 13:51:05,047 [Voltage Controller] - INFO    Initializing DAC Control\n",
      "2023-05-19 13:51:05,058 [Voltage Controller] - INFO    Set external DAC reference\n",
      "2023-05-19 13:51:05,060 [Voltage Controller] - INFO    Set external DAC reference\n",
      "2023-05-19 13:51:05,062 [Voltage Controller] - INFO    Set external DAC reference\n",
      "2023-05-19 13:51:05,078 [IO Expander       ] - INFO    Clock LEMO output disabled\n",
      "2023-05-19 13:51:05,110 [IO Expander       ] - INFO    HDMI Channel 1 disabled\n",
      "2023-05-19 13:51:05,137 [IO Expander       ] - INFO    HDMI Channel 2 disabled\n",
      "2023-05-19 13:51:05,154 [IO Expander       ] - INFO    HDMI Channel 3 disabled\n",
      "2023-05-19 13:51:05,168 [IO Expander       ] - INFO    HDMI Channel 4 disabled\n",
      "2023-05-19 13:51:05,183 [Voltage Controller] - INFO    Threshold of input 1 set to 1.2 V\n",
      "2023-05-19 13:51:05,186 [Voltage Controller] - INFO    Threshold of input 2 set to 1.2 V\n",
      "2023-05-19 13:51:05,191 [Voltage Controller] - INFO    Threshold of input 3 set to 1.2 V\n",
      "2023-05-19 13:51:05,194 [Voltage Controller] - INFO    Threshold of input 4 set to 1.2 V\n",
      "2023-05-19 13:51:05,202 [Voltage Controller] - INFO    Threshold of input 5 set to 1.2 V\n",
      "2023-05-19 13:51:05,205 [Voltage Controller] - INFO    Threshold of input 6 set to 1.2 V\n",
      "2023-05-19 13:51:05,206 [AidaTLU           ] - INFO    Run active: False\n",
      "2023-05-19 13:51:05,211 [Trigger Controller] - INFO    Trigger Veto set to: True\n",
      "2023-05-19 13:51:05,212 [AidaTLU           ] - SUCCESS Done\n"
     ]
    }
   ],
   "source": [
    "import uhal\n",
    "\n",
    "from tlu import AidaTLU\n",
    "import time\n",
    "import logger\n",
    "import pandas as pd\n",
    "import numpy as np\n",
    "\n",
    "uhal.setLogLevelTo(uhal.LogLevel.NOTICE)\n",
    "manager = uhal.ConnectionManager(\"file://./misc/aida_tlu_connection.xml\")\n",
    "hw = uhal.HwInterface(manager.getDevice(\"aida_tlu.controlhub\"))\n",
    "\n",
    "tlu = AidaTLU(hw)\n"
   ]
  },
  {
   "cell_type": "code",
   "execution_count": 2,
   "metadata": {},
   "outputs": [
    {
     "name": "stderr",
     "output_type": "stream",
     "text": [
      "2023-05-19 13:51:06,036 [AidaTLU           ] - INFO    Configure DUT 1 in EUDET test mode\n",
      "2023-05-19 13:51:06,057 [IO Expander       ] - INFO    HDMI Channel 1 enabled\n",
      "2023-05-19 13:51:06,063 [IO Expander       ] - INFO    Clock source of HDMI Channel 1 set to off.\n",
      "2023-05-19 13:51:06,065 [Trigger Controller] - INFO    Pulse stretch is set to 34636833\n",
      "2023-05-19 13:51:06,069 [Trigger Controller] - INFO    Pulse Delay is set to 0\n",
      "2023-05-19 13:51:06,074 [Trigger Controller] - INFO    Trigger mask: 2\n",
      "2023-05-19 13:51:06,076 [Trigger Controller] - INFO    Trigger on falling edge\n",
      "2023-05-19 13:51:06,080 [DUT Logic         ] - INFO    DUT mask set to 7\n",
      "2023-05-19 13:51:06,083 [DUT Logic         ] - INFO    DUT mask mode is set to 0\n",
      "2023-05-19 13:51:06,084 [Trigger Controller] - INFO    Set internal trigger frequency to: 500 Hz\n"
     ]
    }
   ],
   "source": [
    "tlu.test_configuration()"
   ]
  },
  {
   "cell_type": "code",
   "execution_count": 12,
   "metadata": {},
   "outputs": [
    {
     "name": "stderr",
     "output_type": "stream",
     "text": [
      "2023-05-19 13:39:45,734 [AidaTLU           ] - INFO    fifo csr: 3 fifo fill level: 3\n",
      "2023-05-19 13:39:45,735 [AidaTLU           ] - INFO    post: 0 pre: 30414\n",
      "2023-05-19 13:39:45,736 [AidaTLU           ] - INFO    time stamp: 2433128852\n"
     ]
    }
   ],
   "source": [
    "tlu.status()"
   ]
  },
  {
   "cell_type": "code",
   "execution_count": 3,
   "metadata": {},
   "outputs": [
    {
     "name": "stderr",
     "output_type": "stream",
     "text": [
      "2023-05-19 13:51:09,712 [AidaTLU           ] - INFO    Run active: True\n",
      "2023-05-19 13:51:09,713 [Trigger Controller] - INFO    Trigger Veto set to: False\n",
      "2023-05-19 13:51:14,926 [Trigger Controller] - INFO    Trigger Veto set to: True\n",
      "2023-05-19 13:51:14,927 [AidaTLU           ] - INFO    Run active: False\n"
     ]
    }
   ],
   "source": [
    "tlu.run()"
   ]
  },
  {
   "cell_type": "code",
   "execution_count": 7,
   "metadata": {},
   "outputs": [
    {
     "name": "stderr",
     "output_type": "stream",
     "text": [
      "2023-05-19 13:11:10,903 [IO Expander       ] - INFO    HDMI Channel 1 enabled\n",
      "2023-05-19 13:11:10,916 [IO Expander       ] - INFO    HDMI Channel 2 enabled\n",
      "2023-05-19 13:11:10,932 [IO Expander       ] - INFO    HDMI Channel 3 enabled\n",
      "2023-05-19 13:11:10,949 [IO Expander       ] - INFO    HDMI Channel 4 enabled\n",
      "2023-05-19 13:11:10,955 [IO Expander       ] - INFO    Clock source of HDMI Channel 1 set to off.\n",
      "2023-05-19 13:11:10,961 [IO Expander       ] - INFO    Clock source of HDMI Channel 2 set to off.\n",
      "2023-05-19 13:11:10,967 [IO Expander       ] - INFO    Clock source of HDMI Channel 3 set to off.\n",
      "2023-05-19 13:11:10,974 [IO Expander       ] - INFO    Clock source of HDMI Channel 4 set to off.\n",
      "2023-05-19 13:11:10,984 [IO Expander       ] - INFO    Clock LEMO output disabled\n",
      "2023-05-19 13:11:10,988 [Voltage Controller] - INFO    Threshold of input 1 set to -0.04 V\n",
      "2023-05-19 13:11:10,992 [Voltage Controller] - INFO    Threshold of input 2 set to -0.04 V\n",
      "2023-05-19 13:11:10,997 [Voltage Controller] - INFO    Threshold of input 3 set to -0.04 V\n",
      "2023-05-19 13:11:11,010 [Voltage Controller] - INFO    Threshold of input 4 set to -0.04 V\n",
      "2023-05-19 13:11:11,013 [Voltage Controller] - INFO    Threshold of input 5 set to -0.2 V\n",
      "2023-05-19 13:11:11,022 [Voltage Controller] - INFO    Threshold of input 6 set to -0.2 V\n",
      "2023-05-19 13:11:11,041 [Trigger Controller] - INFO    Pulse stretch is set to 34636833\n",
      "2023-05-19 13:11:11,043 [Trigger Controller] - INFO    Pulse Delay is set to 0\n",
      "2023-05-19 13:11:11,046 [Trigger Controller] - INFO    Trigger mask: 2\n",
      "2023-05-19 13:11:11,047 [Trigger Controller] - INFO    Trigger on falling edge\n",
      "2023-05-19 13:11:11,050 [DUT Logic         ] - INFO    DUT mask set to 1\n",
      "2023-05-19 13:11:11,054 [DUT Logic         ] - INFO    DUT mask mode is set to 0\n",
      "2023-05-19 13:11:11,056 [DUT Logic         ] - INFO    DUT mask mode modifier is set to 0\n",
      "2023-05-19 13:11:11,062 [DUT Logic         ] - INFO    DUT ignore busy is set to 0\n",
      "2023-05-19 13:11:11,064 [Trigger Controller] - INFO    Set internal trigger frequency to: 0 Hz\n"
     ]
    }
   ],
   "source": [
    "tlu.default_configuration()"
   ]
  },
  {
   "cell_type": "code",
   "execution_count": 63,
   "metadata": {},
   "outputs": [],
   "source": [
    "data = np.dtype([('w0',int),('w1',int),('w2',int),('w3',int),('w4',int),('w5',int)])"
   ]
  },
  {
   "cell_type": "code",
   "execution_count": 82,
   "metadata": {},
   "outputs": [],
   "source": [
    "filter_data = tb.Filters(complib='blosc', complevel=5)\n",
    "filter_tables = tb.Filters(complib='zlib', complevel=5)\n",
    "h5_file = tb.open_file('test.h5', mode='w', title='TLU')\n",
    "data_table = h5_file.create_table(h5_file.root, name='raw_data', description=data , title='data', filters=filter_data)\n",
    "\n",
    "\n",
    "for _ in range(3):\n",
    "    data_table.append(np.array([1,2,3,4,5,6]))\n",
    "#data_table.flush()\n",
    "\n",
    "h5_file.close()"
   ]
  }
 ],
 "metadata": {
  "kernelspec": {
   "display_name": "aidatlu",
   "language": "python",
   "name": "python3"
  },
  "language_info": {
   "codemirror_mode": {
    "name": "ipython",
    "version": 3
   },
   "file_extension": ".py",
   "mimetype": "text/x-python",
   "name": "python",
   "nbconvert_exporter": "python",
   "pygments_lexer": "ipython3",
   "version": "3.10.10"
  },
  "orig_nbformat": 4
 },
 "nbformat": 4,
 "nbformat_minor": 2
}
