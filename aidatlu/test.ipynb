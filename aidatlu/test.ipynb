{
 "cells": [
  {
   "cell_type": "code",
   "execution_count": 27,
   "metadata": {},
   "outputs": [],
   "source": [
    "import uhal\n",
    "\n",
    "from tlu import AidaTLU\n",
    "import time\n",
    "import logger\n",
    "import pandas as pd\n",
    "import numpy as np\n",
    "\n"
   ]
  },
  {
   "cell_type": "code",
   "execution_count": 30,
   "metadata": {},
   "outputs": [
    {
     "name": "stderr",
     "output_type": "stream",
     "text": [
      "2023-04-27 12:45:38,045 [I2CCore           ] - WARNING Enabling Enclustra I2C bus might have failed. This could prevent from talking to the I2C slaves on the TLU.\n",
      "2023-04-27 12:45:38,172 [AidaTLU           ] - INFO    Found device with ID 0x801f12f1c81b\n",
      "2023-04-27 12:45:38,173 [LED Controller    ] - INFO    Initializing LED Control\n",
      "2023-04-27 12:45:38,192 [Voltage Controller] - INFO    Initializing Power DAC Control\n",
      "2023-04-27 12:45:38,195 [Voltage Controller] - INFO    Set external DAC reference\n",
      "2023-04-27 12:45:38,196 [Clock Controller  ] - INFO    Initializing Clock Chip\n",
      "2023-04-27 12:45:38,199 [Clock Controller  ] - INFO    Writing Clock Configuration\n",
      "2023-04-27 12:45:39,731 [Clock Controller  ] - INFO    DONE\n"
     ]
    }
   ],
   "source": [
    "uhal.setLogLevelTo(uhal.LogLevel.NOTICE)\n",
    "manager = uhal.ConnectionManager(\"file://./misc/aida_tlu_connection.xml\")\n",
    "hw = uhal.HwInterface(manager.getDevice(\"aida_tlu.controlhub\"))\n",
    "\n",
    "tlu = AidaTLU(hw)"
   ]
  },
  {
   "cell_type": "code",
   "execution_count": 21,
   "metadata": {},
   "outputs": [
    {
     "data": {
      "text/plain": [
       "0"
      ]
     },
     "execution_count": 21,
     "metadata": {},
     "output_type": "execute_result"
    }
   ],
   "source": [
    "tlu.clock_controller.get_internal_trigger_frequency()"
   ]
  },
  {
   "cell_type": "code",
   "execution_count": 20,
   "metadata": {},
   "outputs": [
    {
     "name": "stderr",
     "output_type": "stream",
     "text": [
      "2023-04-27 12:40:55,456 [Clock Controller  ] - INFO    Internal trigger frequency: 0 Hz\n"
     ]
    }
   ],
   "source": [
    "tlu.clock_controller.set_internal_trigger_frequency(0)"
   ]
  },
  {
   "cell_type": "code",
   "execution_count": 29,
   "metadata": {},
   "outputs": [],
   "source": [
    "for i in np.arange(0,1.1,0.1):\n",
    "    tlu.voltage_controller.set_voltage(4,i)\n",
    "    time.sleep(3)\n",
    "\n",
    "tlu.voltage_controller.set_all_voltage(0)"
   ]
  },
  {
   "cell_type": "code",
   "execution_count": null,
   "metadata": {},
   "outputs": [],
   "source": []
  }
 ],
 "metadata": {
  "kernelspec": {
   "display_name": "aidatlu",
   "language": "python",
   "name": "python3"
  },
  "language_info": {
   "codemirror_mode": {
    "name": "ipython",
    "version": 3
   },
   "file_extension": ".py",
   "mimetype": "text/x-python",
   "name": "python",
   "nbconvert_exporter": "python",
   "pygments_lexer": "ipython3",
   "version": "3.10.10"
  },
  "orig_nbformat": 4
 },
 "nbformat": 4,
 "nbformat_minor": 2
}
