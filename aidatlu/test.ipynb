{
 "cells": [
  {
   "cell_type": "code",
   "execution_count": 1,
   "metadata": {},
   "outputs": [
    {
     "name": "stderr",
     "output_type": "stream",
     "text": [
      "2023-05-05 13:52:34,700 [I2CCore           ] - WARNING Enabling Enclustra I2C bus might have failed. This could prevent from talking to the I2C slaves on the TLU.\n",
      "2023-05-05 13:52:34,793 [AidaTLU           ] - INFO    Found device with ID 0x801f12f1c81b\n",
      "2023-05-05 13:52:34,794 [LED Controller    ] - INFO    Initializing LED Control\n",
      "2023-05-05 13:52:34,816 [Voltage Controller] - INFO    Initializing Power DAC Control\n",
      "2023-05-05 13:52:34,817 [Voltage Controller] - INFO    Set external DAC reference\n",
      "2023-05-05 13:52:34,818 [Clock Controller  ] - INFO    Initializing Clock Chip\n",
      "2023-05-05 13:52:34,819 [Clock Controller  ] - INFO    Writing Clock Configuration\n",
      "2023-05-05 13:52:36,152 [Clock Controller  ] - INFO    DONE\n",
      "2023-05-05 13:52:36,186 [Output Controller ] - INFO    Clock LEMO output disabled\n",
      "2023-05-05 13:52:36,202 [Output Controller ] - INFO    HDMI Channel 1 disabled\n",
      "2023-05-05 13:52:36,230 [Output Controller ] - INFO    HDMI Channel 2 disabled\n",
      "2023-05-05 13:52:36,249 [Output Controller ] - INFO    HDMI Channel 3 disabled\n",
      "2023-05-05 13:52:36,264 [Output Controller ] - INFO    HDMI Channel 4 disabled\n"
     ]
    }
   ],
   "source": [
    "import uhal\n",
    "\n",
    "from tlu import AidaTLU\n",
    "import time\n",
    "import logger\n",
    "import pandas as pd\n",
    "import numpy as np\n",
    "\n",
    "uhal.setLogLevelTo(uhal.LogLevel.NOTICE)\n",
    "manager = uhal.ConnectionManager(\"file://./misc/aida_tlu_connection.xml\")\n",
    "hw = uhal.HwInterface(manager.getDevice(\"aida_tlu.controlhub\"))\n",
    "\n",
    "tlu = AidaTLU(hw)\n"
   ]
  },
  {
   "cell_type": "code",
   "execution_count": 69,
   "metadata": {},
   "outputs": [
    {
     "name": "stderr",
     "output_type": "stream",
     "text": [
      "2023-05-05 14:43:38,932 [Output Controller ] - INFO    HDMI Channel 1 disabled\n"
     ]
    }
   ],
   "source": [
    "tlu.output_controller.configure_hdmi(1, False)"
   ]
  },
  {
   "cell_type": "code",
   "execution_count": 70,
   "metadata": {},
   "outputs": [
    {
     "name": "stderr",
     "output_type": "stream",
     "text": [
      "2023-05-05 14:43:46,385 [Output Controller ] - INFO    Clock source of HDMI Channel 1 set to chip.\n"
     ]
    }
   ],
   "source": [
    "tlu.output_controller.clock_hdmi_output(1, 'chip')"
   ]
  },
  {
   "cell_type": "code",
   "execution_count": null,
   "metadata": {},
   "outputs": [],
   "source": [
    "tlu.output_controller.clock_lemo_output(True)"
   ]
  },
  {
   "cell_type": "code",
   "execution_count": 34,
   "metadata": {},
   "outputs": [
    {
     "name": "stderr",
     "output_type": "stream",
     "text": [
      "2023-05-05 14:04:41,899 [Output Controller ] - INFO    Clock LEMO output disabled\n"
     ]
    }
   ],
   "source": [
    "tlu.output_controller.clock_lemo_output(False)"
   ]
  }
 ],
 "metadata": {
  "kernelspec": {
   "display_name": "aidatlu",
   "language": "python",
   "name": "python3"
  },
  "language_info": {
   "codemirror_mode": {
    "name": "ipython",
    "version": 3
   },
   "file_extension": ".py",
   "mimetype": "text/x-python",
   "name": "python",
   "nbconvert_exporter": "python",
   "pygments_lexer": "ipython3",
   "version": "3.10.10"
  },
  "orig_nbformat": 4
 },
 "nbformat": 4,
 "nbformat_minor": 2
}
