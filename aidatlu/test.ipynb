{
 "cells": [
  {
   "cell_type": "code",
   "execution_count": 1,
   "metadata": {},
   "outputs": [],
   "source": [
    "import uhal\n",
    "\n",
    "from tlu import AidaTLU\n",
    "import time\n",
    "import logger\n",
    "import pandas as pd\n",
    "import numpy as np"
   ]
  },
  {
   "cell_type": "code",
   "execution_count": 1,
   "metadata": {},
   "outputs": [
    {
     "name": "stderr",
     "output_type": "stream",
     "text": [
      "2023-05-12 13:42:52,479 [I2CCore           ] - WARNING Enabling Enclustra I2C bus might have failed. This could prevent from talking to the I2C slaves on the TLU.\n",
      "2023-05-12 13:42:52,593 [AidaTLU           ] - INFO    Found device with ID 0x801f12f1c81b\n",
      "2023-05-12 13:42:52,594 [IO Expander       ] - INFO    Initializing IO expander\n",
      "2023-05-12 13:42:52,631 [Voltage Controller] - INFO    Initializing Power DAC Control\n",
      "2023-05-12 13:42:52,634 [Voltage Controller] - INFO    Set external DAC reference\n",
      "2023-05-12 13:42:52,635 [Clock Controller  ] - INFO    Initializing Clock Chip\n",
      "2023-05-12 13:42:52,636 [Clock Controller  ] - INFO    Writing clock configuration\n",
      "2023-05-12 13:42:53,958 [Clock Controller  ] - SUCCESS Done writing clock configuration \n",
      "2023-05-12 13:42:53,969 [IO Expander       ] - INFO    Clock LEMO output disabled\n",
      "2023-05-12 13:42:53,980 [IO Expander       ] - INFO    HDMI Channel 1 disabled\n",
      "2023-05-12 13:42:54,007 [IO Expander       ] - INFO    HDMI Channel 2 disabled\n",
      "2023-05-12 13:42:54,025 [IO Expander       ] - INFO    HDMI Channel 3 disabled\n",
      "2023-05-12 13:42:54,041 [IO Expander       ] - INFO    HDMI Channel 4 disabled\n",
      "2023-05-12 13:42:54,050 [AidaTLU           ] - INFO    Run active: False\n",
      "2023-05-12 13:42:54,051 [Trigger Controller] - INFO    Trigger Veto set to: True\n"
     ]
    }
   ],
   "source": [
    "import uhal\n",
    "\n",
    "from tlu import AidaTLU\n",
    "import time\n",
    "import logger\n",
    "import pandas as pd\n",
    "import numpy as np\n",
    "\n",
    "uhal.setLogLevelTo(uhal.LogLevel.NOTICE)\n",
    "manager = uhal.ConnectionManager(\"file://./misc/aida_tlu_connection.xml\")\n",
    "hw = uhal.HwInterface(manager.getDevice(\"aida_tlu.controlhub\"))\n",
    "\n",
    "tlu = AidaTLU(hw)\n"
   ]
  },
  {
   "cell_type": "code",
   "execution_count": 28,
   "metadata": {},
   "outputs": [
    {
     "name": "stderr",
     "output_type": "stream",
     "text": [
      "2023-05-12 14:33:03,718 [AidaTLU           ] - INFO    Configure DUT 1 in EUDET test mode\n",
      "2023-05-12 14:33:03,743 [IO Expander       ] - INFO    HDMI Channel 1 enabled\n",
      "2023-05-12 14:33:03,754 [IO Expander       ] - INFO    Clock source of HDMI Channel 1 set to off.\n",
      "2023-05-12 14:33:03,758 [DUT Logic         ] - INFO    DUT mask is set to 1\n",
      "2023-05-12 14:33:03,759 [DUT Logic         ] - INFO    DUT mask mode is set to 0\n",
      "2023-05-12 14:33:03,760 [Trigger Controller] - INFO    Set internal trigger frequency to: 500 Hz\n"
     ]
    }
   ],
   "source": [
    "tlu.test_configuration()"
   ]
  },
  {
   "cell_type": "code",
   "execution_count": 37,
   "metadata": {},
   "outputs": [
    {
     "name": "stderr",
     "output_type": "stream",
     "text": [
      "2023-05-12 14:38:13,748 [AidaTLU           ] - INFO    Run active: True\n",
      "2023-05-12 14:38:13,756 [Trigger Controller] - INFO    Trigger Veto set to: False\n",
      "2023-05-12 14:39:12,232 [Trigger Controller] - INFO    Trigger Veto set to: True\n",
      "2023-05-12 14:39:12,233 [AidaTLU           ] - INFO    Run active: False\n"
     ]
    }
   ],
   "source": [
    "tlu.run()"
   ]
  },
  {
   "cell_type": "code",
   "execution_count": 9,
   "metadata": {},
   "outputs": [
    {
     "name": "stderr",
     "output_type": "stream",
     "text": [
      "2023-05-11 15:39:34,689 [AidaTLU           ] - INFO    fifo csr: 16 fifo fill level: 16\n",
      "2023-05-11 15:39:34,690 [AidaTLU           ] - INFO    post: 3579 pre: 17348\n",
      "2023-05-11 15:39:34,691 [AidaTLU           ] - INFO    time stamp: 6939392033\n"
     ]
    }
   ],
   "source": [
    "tlu.status()"
   ]
  }
 ],
 "metadata": {
  "kernelspec": {
   "display_name": "aidatlu",
   "language": "python",
   "name": "python3"
  },
  "language_info": {
   "codemirror_mode": {
    "name": "ipython",
    "version": 3
   },
   "file_extension": ".py",
   "mimetype": "text/x-python",
   "name": "python",
   "nbconvert_exporter": "python",
   "pygments_lexer": "ipython3",
   "version": "3.10.10"
  },
  "orig_nbformat": 4
 },
 "nbformat": 4,
 "nbformat_minor": 2
}
