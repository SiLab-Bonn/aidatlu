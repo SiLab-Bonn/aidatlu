{
 "cells": [
  {
   "cell_type": "code",
   "execution_count": 5,
   "metadata": {},
   "outputs": [],
   "source": [
    "import uhal\n",
    "\n",
    "from tlu import AidaTLU\n",
    "import time\n",
    "import logger\n",
    "import pandas as pd\n",
    "import numpy as np\n",
    "import tables as tb\n",
    "import yaml"
   ]
  },
  {
   "cell_type": "code",
   "execution_count": 1,
   "metadata": {},
   "outputs": [
    {
     "name": "stderr",
     "output_type": "stream",
     "text": [
      "2023-05-24 14:47:35,877 [I2CCore           ] - WARNING Enabling Enclustra I2C bus might have failed. This could prevent from talking to the I2C slaves on the TLU.\n",
      "2023-05-24 14:47:35,975 [AidaTLU           ] - INFO    Found device with ID 0x801f12f1c81b\n",
      "2023-05-24 14:47:35,976 [Clock Controller  ] - INFO    Initializing Clock Chip\n",
      "2023-05-24 14:47:35,982 [Clock Controller  ] - INFO    Writing clock configuration\n",
      "2023-05-24 14:47:37,214 [Clock Controller  ] - SUCCESS Done writing clock configuration \n",
      "2023-05-24 14:47:37,215 [IO Expander       ] - INFO    Initializing IO expander\n",
      "2023-05-24 14:47:37,259 [Voltage Controller] - INFO    Initializing DAC Control\n",
      "2023-05-24 14:47:37,260 [Voltage Controller] - INFO    Set external DAC reference\n",
      "2023-05-24 14:47:37,262 [Voltage Controller] - INFO    Set external DAC reference\n",
      "2023-05-24 14:47:37,264 [Voltage Controller] - INFO    Set external DAC reference\n",
      "2023-05-24 14:47:37,279 [IO Expander       ] - INFO    Clock LEMO output disabled\n",
      "2023-05-24 14:47:37,297 [IO Expander       ] - INFO    HDMI Channel 1 disabled\n",
      "2023-05-24 14:47:37,311 [IO Expander       ] - INFO    HDMI Channel 2 disabled\n",
      "2023-05-24 14:47:37,333 [IO Expander       ] - INFO    HDMI Channel 3 disabled\n",
      "2023-05-24 14:47:37,352 [IO Expander       ] - INFO    HDMI Channel 4 disabled\n",
      "2023-05-24 14:47:37,364 [Voltage Controller] - INFO    Threshold of input 1 set to 1.2 V\n",
      "2023-05-24 14:47:37,368 [Voltage Controller] - INFO    Threshold of input 2 set to 1.2 V\n",
      "2023-05-24 14:47:37,375 [Voltage Controller] - INFO    Threshold of input 3 set to 1.2 V\n",
      "2023-05-24 14:47:37,377 [Voltage Controller] - INFO    Threshold of input 4 set to 1.2 V\n",
      "2023-05-24 14:47:37,380 [Voltage Controller] - INFO    Threshold of input 5 set to 1.2 V\n",
      "2023-05-24 14:47:37,383 [Voltage Controller] - INFO    Threshold of input 6 set to 1.2 V\n",
      "2023-05-24 14:47:37,384 [AidaTLU           ] - INFO    Run active: False\n",
      "2023-05-24 14:47:37,391 [Trigger Controller] - INFO    Trigger Veto set to: True\n",
      "2023-05-24 14:47:37,392 [AidaTLU           ] - SUCCESS TLU initialized\n"
     ]
    }
   ],
   "source": [
    "import uhal\n",
    "\n",
    "from tlu import AidaTLU\n",
    "import time\n",
    "import logger\n",
    "import pandas as pd  \n",
    "import numpy as np\n",
    "\n",
    "uhal.setLogLevelTo(uhal.LogLevel.NOTICE)\n",
    "manager = uhal.ConnectionManager(\"file://./misc/aida_tlu_connection.xml\")\n",
    "hw = uhal.HwInterface(manager.getDevice(\"aida_tlu.controlhub\"))\n",
    "\n",
    "tlu = AidaTLU(hw)\n"
   ]
  },
  {
   "cell_type": "code",
   "execution_count": 2,
   "metadata": {},
   "outputs": [
    {
     "name": "stderr",
     "output_type": "stream",
     "text": [
      "2023-05-24 14:47:40,774 [AidaTLU           ] - INFO    Configure DUT 1 in EUDET mode\n",
      "2023-05-24 14:47:40,790 [IO Expander       ] - INFO    HDMI Channel 1 enabled\n",
      "2023-05-24 14:47:40,794 [IO Expander       ] - INFO    Clock source of HDMI Channel 1 set to off.\n",
      "2023-05-24 14:47:40,795 [DUT Logic         ] - INFO    DUT mask set to 1\n",
      "2023-05-24 14:47:40,796 [DUT Logic         ] - INFO    DUT mask mode is set to 0\n",
      "2023-05-24 14:47:40,796 [DUT Logic         ] - INFO    DUT mask mode modifier is set to 0\n",
      "2023-05-24 14:47:40,797 [DUT Logic         ] - INFO    DUT ignore busy is set to 0\n",
      "2023-05-24 14:47:40,802 [Trigger Controller] - INFO    Trigger mask: 2\n",
      "2023-05-24 14:47:40,806 [Voltage Controller] - INFO    Threshold of input 1 set to -0.04 V\n",
      "2023-05-24 14:47:40,808 [Voltage Controller] - INFO    Threshold of input 2 set to -0.04 V\n",
      "2023-05-24 14:47:40,813 [Voltage Controller] - INFO    Threshold of input 3 set to -0.04 V\n",
      "2023-05-24 14:47:40,825 [Voltage Controller] - INFO    Threshold of input 4 set to -0.04 V\n",
      "2023-05-24 14:47:40,827 [Voltage Controller] - INFO    Threshold of input 5 set to -0.2 V\n",
      "2023-05-24 14:47:40,831 [Voltage Controller] - INFO    Threshold of input 6 set to -0.2 V\n",
      "2023-05-24 14:47:40,833 [Trigger Controller] - INFO    Trigger on rising edge\n",
      "2023-05-24 14:47:40,835 [Trigger Controller] - INFO    Pulse stretch is set to 34636833\n",
      "2023-05-24 14:47:40,836 [Trigger Controller] - INFO    Pulse Delay is set to 0\n",
      "2023-05-24 14:47:40,850 [IO Expander       ] - INFO    Clock LEMO output disabled\n",
      "2023-05-24 14:47:40,850 [TLUConfigure      ] - SUCCESS TLU configured\n"
     ]
    }
   ],
   "source": [
    "tlu.configure()"
   ]
  },
  {
   "cell_type": "code",
   "execution_count": 3,
   "metadata": {},
   "outputs": [
    {
     "name": "stderr",
     "output_type": "stream",
     "text": [
      "2023-05-24 14:47:43,108 [AidaTLU           ] - INFO    Run active: True\n",
      "2023-05-24 14:47:43,110 [Trigger Controller] - INFO    Trigger Veto set to: False\n",
      "2023-05-24 14:47:43,133 [AidaTLU           ] - INFO    Run time: 0.021 s, Total trigger number: 0, Trigger frequency: 0.00 Hz\n",
      "2023-05-24 14:48:55,577 [AidaTLU           ] - INFO    Run time: 72.466 s, Total trigger number: 133632, Trigger frequency: 1844.06 Hz\n",
      "2023-05-24 14:49:04,814 [Trigger Controller] - INFO    Trigger Veto set to: True\n",
      "2023-05-24 14:49:04,815 [AidaTLU           ] - INFO    Run active: False\n"
     ]
    }
   ],
   "source": [
    "tlu.run()"
   ]
  },
  {
   "cell_type": "code",
   "execution_count": null,
   "metadata": {},
   "outputs": [],
   "source": []
  }
 ],
 "metadata": {
  "kernelspec": {
   "display_name": "aidatlu",
   "language": "python",
   "name": "python3"
  },
  "language_info": {
   "codemirror_mode": {
    "name": "ipython",
    "version": 3
   },
   "file_extension": ".py",
   "mimetype": "text/x-python",
   "name": "python",
   "nbconvert_exporter": "python",
   "pygments_lexer": "ipython3",
   "version": "3.10.10"
  },
  "orig_nbformat": 4
 },
 "nbformat": 4,
 "nbformat_minor": 2
}
