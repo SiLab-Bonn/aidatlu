{
 "cells": [
  {
   "cell_type": "code",
   "execution_count": null,
   "metadata": {},
   "outputs": [],
   "source": [
    "import uhal\n",
    "\n",
    "from tlu import AidaTLU\n",
    "import time\n",
    "import logger\n",
    "import pandas as pd\n",
    "import numpy as np"
   ]
  },
  {
   "cell_type": "code",
   "execution_count": 1,
   "metadata": {},
   "outputs": [
    {
     "name": "stderr",
     "output_type": "stream",
     "text": [
      "2023-05-09 14:40:31,596 [I2CCore           ] - WARNING Enabling Enclustra I2C bus might have failed. This could prevent from talking to the I2C slaves on the TLU.\n",
      "2023-05-09 14:40:31,687 [AidaTLU           ] - INFO    Found device with ID 0x801f12f1c81b\n",
      "2023-05-09 14:40:31,688 [LED Controller    ] - INFO    Initializing LED Control\n",
      "2023-05-09 14:40:31,706 [Voltage Controller] - INFO    Initializing Power DAC Control\n",
      "2023-05-09 14:40:31,708 [Voltage Controller] - INFO    Set external DAC reference\n",
      "2023-05-09 14:40:31,709 [Clock Controller  ] - INFO    Initializing Clock Chip\n",
      "2023-05-09 14:40:31,709 [Clock Controller  ] - INFO    Writing Clock Configuration\n",
      "2023-05-09 14:40:32,996 [Clock Controller  ] - INFO    DONE\n",
      "2023-05-09 14:40:33,026 [Output Controller ] - INFO    Clock LEMO output disabled\n",
      "2023-05-09 14:40:33,036 [Output Controller ] - INFO    HDMI Channel 1 disabled\n",
      "2023-05-09 14:40:33,047 [Output Controller ] - INFO    HDMI Channel 2 disabled\n",
      "2023-05-09 14:40:33,065 [Output Controller ] - INFO    HDMI Channel 3 disabled\n",
      "2023-05-09 14:40:33,076 [Output Controller ] - INFO    HDMI Channel 4 disabled\n"
     ]
    }
   ],
   "source": [
    "import uhal\n",
    "\n",
    "from tlu import AidaTLU\n",
    "import time\n",
    "import logger\n",
    "import pandas as pd\n",
    "import numpy as np\n",
    "\n",
    "uhal.setLogLevelTo(uhal.LogLevel.NOTICE)\n",
    "manager = uhal.ConnectionManager(\"file://./misc/aida_tlu_connection.xml\")\n",
    "hw = uhal.HwInterface(manager.getDevice(\"aida_tlu.controlhub\"))\n",
    "\n",
    "tlu = AidaTLU(hw)\n"
   ]
  },
  {
   "cell_type": "code",
   "execution_count": 28,
   "metadata": {},
   "outputs": [
    {
     "name": "stderr",
     "output_type": "stream",
     "text": [
      "2023-05-09 14:45:24,470 [Trigger Controller] - INFO    Trigger Veto set to: 0\n",
      "2023-05-09 14:45:24,472 [Trigger Controller] - INFO    Pulse Delay is set to 0\n",
      "2023-05-09 14:45:24,473 [Trigger Controller] - INFO    Pulse stretch is set to 34636833\n",
      "2023-05-09 14:45:24,476 [Trigger Controller] - INFO    Trigger mask: 18446744073709486078\n",
      "2023-05-09 14:45:24,480 [Trigger Controller] - INFO    Trigger on falling edge\n",
      "2023-05-09 14:45:24,500 [Output Controller ] - INFO    HDMI Channel 1 enabled\n",
      "2023-05-09 14:45:24,506 [Output Controller ] - INFO    Clock source of HDMI Channel 1 set to chip.\n",
      "2023-05-09 14:45:24,507 [DUT Logic         ] - INFO    DUT mask is set to 1\n",
      "2023-05-09 14:45:24,508 [DUT Logic         ] - INFO    DUT mask mode is set to 1\n",
      "2023-05-09 14:45:24,508 [DUT Logic         ] - INFO    DUT ignore busy is set to 1\n"
     ]
    }
   ],
   "source": [
    "test_stretch = [1,1,1,1,1,1]\n",
    "test_delay = [0,0,0,0,0,0]\n",
    "\n",
    "\n",
    "tlu.trigger_logic.set_trigger_veto(0)\n",
    "tlu.trigger_logic.set_pulse_delay_pack(test_delay)\n",
    "tlu.trigger_logic.set_pulse_stretch_pack(test_stretch)\n",
    "tlu.trigger_logic.set_trigger_mask(mask_high=0xFFFFFFFF, mask_low=0xFFFEFFFE)\n",
    "tlu.trigger_logic.set_trigger_polarity(1)\n",
    "tlu.output_controller.configure_hdmi(1, '0111')\n",
    "tlu.output_controller.clock_hdmi_output(1, 'chip')\n",
    "tlu.dut_logic.set_dut_mask('0001')\n",
    "tlu.dut_logic.set_dut_mask_mode('00000001')\n",
    "tlu.dut_logic.set_dut_ignore_busy('0001')\n",
    "\n"
   ]
  }
 ],
 "metadata": {
  "kernelspec": {
   "display_name": "aidatlu",
   "language": "python",
   "name": "python3"
  },
  "language_info": {
   "codemirror_mode": {
    "name": "ipython",
    "version": 3
   },
   "file_extension": ".py",
   "mimetype": "text/x-python",
   "name": "python",
   "nbconvert_exporter": "python",
   "pygments_lexer": "ipython3",
   "version": "3.10.10"
  },
  "orig_nbformat": 4
 },
 "nbformat": 4,
 "nbformat_minor": 2
}
