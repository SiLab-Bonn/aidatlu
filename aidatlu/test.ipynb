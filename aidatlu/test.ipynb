{
 "cells": [
  {
   "cell_type": "code",
   "execution_count": 1,
   "metadata": {},
   "outputs": [],
   "source": [
    "import uhal\n",
    "\n",
    "from tlu import AidaTLU\n",
    "import time\n",
    "import logger\n",
    "import pandas as pd\n",
    "import numpy as np\n",
    "\n"
   ]
  },
  {
   "cell_type": "code",
   "execution_count": 2,
   "metadata": {},
   "outputs": [
    {
     "name": "stderr",
     "output_type": "stream",
     "text": [
      "2023-05-02 14:47:09,239 [I2CCore           ] - WARNING Enabling Enclustra I2C bus might have failed. This could prevent from talking to the I2C slaves on the TLU.\n",
      "2023-05-02 14:47:09,378 [AidaTLU           ] - INFO    Found device with ID 0x801f12f1c81b\n",
      "2023-05-02 14:47:09,379 [LED Controller    ] - INFO    Initializing LED Control\n",
      "2023-05-02 14:47:09,413 [Voltage Controller] - INFO    Initializing Power DAC Control\n",
      "2023-05-02 14:47:09,421 [Voltage Controller] - INFO    Set external DAC reference\n",
      "2023-05-02 14:47:09,421 [Clock Controller  ] - INFO    Initializing Clock Chip\n",
      "2023-05-02 14:47:09,423 [Clock Controller  ] - INFO    Writing Clock Configuration\n",
      "2023-05-02 14:47:10,748 [Clock Controller  ] - INFO    DONE\n"
     ]
    }
   ],
   "source": [
    "uhal.setLogLevelTo(uhal.LogLevel.NOTICE)\n",
    "manager = uhal.ConnectionManager(\"file://./misc/aida_tlu_connection.xml\")\n",
    "hw = uhal.HwInterface(manager.getDevice(\"aida_tlu.controlhub\"))\n",
    "\n",
    "tlu = AidaTLU(hw)"
   ]
  },
  {
   "cell_type": "code",
   "execution_count": 6,
   "metadata": {},
   "outputs": [
    {
     "name": "stderr",
     "output_type": "stream",
     "text": [
      "2023-05-02 14:46:16,846 [Trigger Controller] - INFO    Trigger Veto set to: 0\n"
     ]
    }
   ],
   "source": [
    "tlu.trigger_controller.set_trigger_veto(0)"
   ]
  },
  {
   "cell_type": "code",
   "execution_count": 8,
   "metadata": {},
   "outputs": [
    {
     "name": "stderr",
     "output_type": "stream",
     "text": [
      "2023-05-02 14:48:29,008 [Trigger Controller] - INFO    Trigger on falling edge\n"
     ]
    }
   ],
   "source": [
    "tlu.trigger_controller.set_trigger_polarity(0)"
   ]
  },
  {
   "cell_type": "code",
   "execution_count": 5,
   "metadata": {},
   "outputs": [
    {
     "data": {
      "text/plain": [
       "1"
      ]
     },
     "execution_count": 5,
     "metadata": {},
     "output_type": "execute_result"
    }
   ],
   "source": [
    "tlu.trigger_controller.get_trigger_veto()"
   ]
  },
  {
   "cell_type": "code",
   "execution_count": 7,
   "metadata": {},
   "outputs": [
    {
     "name": "stderr",
     "output_type": "stream",
     "text": [
      "2023-05-02 14:44:46,482 [Trigger Controller] - INFO    Trigger mask: 0\n"
     ]
    }
   ],
   "source": [
    "tlu.trigger_controller.set_trigger_mask(0)"
   ]
  },
  {
   "cell_type": "code",
   "execution_count": 8,
   "metadata": {},
   "outputs": [
    {
     "data": {
      "text/plain": [
       "0"
      ]
     },
     "execution_count": 8,
     "metadata": {},
     "output_type": "execute_result"
    }
   ],
   "source": [
    "tlu.trigger_controller.get_trigger_mask()"
   ]
  },
  {
   "cell_type": "code",
   "execution_count": 6,
   "metadata": {},
   "outputs": [
    {
     "name": "stderr",
     "output_type": "stream",
     "text": [
      "2023-05-02 13:06:44,746 [LED Controller    ] - INFO    Testing LEDs colors\n"
     ]
    }
   ],
   "source": [
    "tlu.led_controller.test_leds()"
   ]
  },
  {
   "cell_type": "code",
   "execution_count": 6,
   "metadata": {},
   "outputs": [
    {
     "name": "stderr",
     "output_type": "stream",
     "text": [
      "2023-05-02 13:34:45,329 [Output Controller ] - INFO    Clock LEMO output disabled\n"
     ]
    }
   ],
   "source": [
    "tlu.output_controller.clock_lemo_output(False)"
   ]
  },
  {
   "cell_type": "code",
   "execution_count": 4,
   "metadata": {},
   "outputs": [
    {
     "name": "stderr",
     "output_type": "stream",
     "text": [
      "2023-05-02 13:34:21,642 [Clock Controller  ] - INFO    Internal trigger frequency: 10001 Hz\n",
      "2023-05-02 13:34:21,644 [Clock Controller  ] - WARNING Frequency is set to different value. Internal Trigger frequency is 10001 Hz\n"
     ]
    }
   ],
   "source": [
    "tlu.clock_controller.set_internal_trigger_frequency(10000)"
   ]
  },
  {
   "cell_type": "code",
   "execution_count": 4,
   "metadata": {},
   "outputs": [
    {
     "data": {
      "text/plain": [
       "10001"
      ]
     },
     "execution_count": 4,
     "metadata": {},
     "output_type": "execute_result"
    }
   ],
   "source": [
    "tlu.clock_controller.get_internal_trigger_frequency()"
   ]
  },
  {
   "cell_type": "code",
   "execution_count": null,
   "metadata": {},
   "outputs": [],
   "source": []
  }
 ],
 "metadata": {
  "kernelspec": {
   "display_name": "aidatlu",
   "language": "python",
   "name": "python3"
  },
  "language_info": {
   "codemirror_mode": {
    "name": "ipython",
    "version": 3
   },
   "file_extension": ".py",
   "mimetype": "text/x-python",
   "name": "python",
   "nbconvert_exporter": "python",
   "pygments_lexer": "ipython3",
   "version": "3.10.10"
  },
  "orig_nbformat": 4
 },
 "nbformat": 4,
 "nbformat_minor": 2
}
