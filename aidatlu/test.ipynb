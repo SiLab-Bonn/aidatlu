{
 "cells": [
  {
   "cell_type": "code",
   "execution_count": 2,
   "metadata": {},
   "outputs": [],
   "source": [
    "import uhal\n",
    "\n",
    "from tlu import AidaTLU\n",
    "import time\n",
    "import logger\n",
    "import pandas as pd\n",
    "import numpy as np"
   ]
  },
  {
   "cell_type": "code",
   "execution_count": 1,
   "metadata": {},
   "outputs": [
    {
     "name": "stderr",
     "output_type": "stream",
     "text": [
      "2023-05-17 15:31:33,239 [I2CCore           ] - WARNING Enabling Enclustra I2C bus might have failed. This could prevent from talking to the I2C slaves on the TLU.\n",
      "2023-05-17 15:31:33,336 [AidaTLU           ] - INFO    Found device with ID 0x801f12f1c81b\n",
      "2023-05-17 15:31:33,337 [Clock Controller  ] - INFO    Initializing Clock Chip\n",
      "2023-05-17 15:31:33,338 [Clock Controller  ] - INFO    Writing clock configuration\n",
      "2023-05-17 15:31:34,608 [Clock Controller  ] - SUCCESS Done writing clock configuration \n",
      "2023-05-17 15:31:34,608 [IO Expander       ] - INFO    Initializing IO expander\n",
      "2023-05-17 15:31:34,647 [Voltage Controller] - INFO    Initializing DAC Control\n",
      "2023-05-17 15:31:34,649 [Voltage Controller] - INFO    Set external DAC reference\n",
      "2023-05-17 15:31:34,658 [Voltage Controller] - INFO    Set external DAC reference\n",
      "2023-05-17 15:31:34,662 [Voltage Controller] - INFO    Set external DAC reference\n",
      "2023-05-17 15:31:34,684 [IO Expander       ] - INFO    Clock LEMO output disabled\n",
      "2023-05-17 15:31:34,699 [IO Expander       ] - INFO    HDMI Channel 1 disabled\n",
      "2023-05-17 15:31:34,712 [IO Expander       ] - INFO    HDMI Channel 2 disabled\n",
      "2023-05-17 15:31:34,737 [IO Expander       ] - INFO    HDMI Channel 3 disabled\n",
      "2023-05-17 15:31:34,756 [IO Expander       ] - INFO    HDMI Channel 4 disabled\n",
      "2023-05-17 15:31:34,772 [Voltage Controller] - INFO    Threshold of input 1 set to 1.2 V\n",
      "2023-05-17 15:31:34,779 [Voltage Controller] - INFO    Threshold of input 2 set to 1.2 V\n",
      "2023-05-17 15:31:34,781 [Voltage Controller] - INFO    Threshold of input 3 set to 1.2 V\n",
      "2023-05-17 15:31:34,783 [Voltage Controller] - INFO    Threshold of input 4 set to 1.2 V\n",
      "2023-05-17 15:31:34,790 [Voltage Controller] - INFO    Threshold of input 5 set to 1.2 V\n",
      "2023-05-17 15:31:34,798 [Voltage Controller] - INFO    Threshold of input 6 set to 1.2 V\n",
      "2023-05-17 15:31:34,799 [AidaTLU           ] - INFO    Run active: False\n",
      "2023-05-17 15:31:34,801 [Trigger Controller] - INFO    Trigger Veto set to: True\n",
      "2023-05-17 15:31:34,802 [AidaTLU           ] - SUCCESS Done\n"
     ]
    }
   ],
   "source": [
    "import uhal\n",
    "\n",
    "from tlu import AidaTLU\n",
    "import time\n",
    "import logger\n",
    "import pandas as pd\n",
    "import numpy as np\n",
    "\n",
    "uhal.setLogLevelTo(uhal.LogLevel.NOTICE)\n",
    "manager = uhal.ConnectionManager(\"file://./misc/aida_tlu_connection.xml\")\n",
    "hw = uhal.HwInterface(manager.getDevice(\"aida_tlu.controlhub\"))\n",
    "\n",
    "tlu = AidaTLU(hw)\n"
   ]
  },
  {
   "cell_type": "code",
   "execution_count": 2,
   "metadata": {},
   "outputs": [
    {
     "name": "stderr",
     "output_type": "stream",
     "text": [
      "2023-05-17 15:31:38,450 [IO Expander       ] - INFO    HDMI Channel 1 enabled\n",
      "2023-05-17 15:31:38,471 [IO Expander       ] - INFO    HDMI Channel 2 enabled\n",
      "2023-05-17 15:31:38,488 [IO Expander       ] - INFO    HDMI Channel 3 enabled\n",
      "2023-05-17 15:31:38,506 [IO Expander       ] - INFO    HDMI Channel 4 enabled\n",
      "2023-05-17 15:31:38,510 [IO Expander       ] - INFO    Clock source of HDMI Channel 1 set to off.\n",
      "2023-05-17 15:31:38,513 [IO Expander       ] - INFO    Clock source of HDMI Channel 2 set to off.\n",
      "2023-05-17 15:31:38,517 [IO Expander       ] - INFO    Clock source of HDMI Channel 3 set to off.\n",
      "2023-05-17 15:31:38,524 [IO Expander       ] - INFO    Clock source of HDMI Channel 4 set to off.\n",
      "2023-05-17 15:31:38,545 [IO Expander       ] - INFO    Clock LEMO output disabled\n",
      "2023-05-17 15:31:38,547 [Voltage Controller] - INFO    Threshold of input 1 set to -0.04 V\n",
      "2023-05-17 15:31:38,551 [Voltage Controller] - INFO    Threshold of input 2 set to -0.04 V\n",
      "2023-05-17 15:31:38,559 [Voltage Controller] - INFO    Threshold of input 3 set to -0.04 V\n",
      "2023-05-17 15:31:38,563 [Voltage Controller] - INFO    Threshold of input 4 set to -0.04 V\n",
      "2023-05-17 15:31:38,565 [Voltage Controller] - INFO    Threshold of input 5 set to -0.2 V\n",
      "2023-05-17 15:31:38,567 [Voltage Controller] - INFO    Threshold of input 6 set to -0.2 V\n",
      "2023-05-17 15:31:38,568 [Trigger Controller] - INFO    Pulse stretch is set to 34636833\n",
      "2023-05-17 15:31:38,570 [Trigger Controller] - INFO    Pulse Delay is set to 0\n",
      "2023-05-17 15:31:38,572 [Trigger Controller] - INFO    Trigger mask: 2\n",
      "2023-05-17 15:31:38,573 [Trigger Controller] - INFO    Trigger on falling edge\n",
      "2023-05-17 15:31:38,574 [DUT Logic         ] - INFO    DUT mask set to 1\n",
      "2023-05-17 15:31:38,575 [DUT Logic         ] - INFO    DUT mask mode is set to 0\n",
      "2023-05-17 15:31:38,576 [DUT Logic         ] - INFO    DUT mask mode modifier is set to 0\n",
      "2023-05-17 15:31:38,578 [DUT Logic         ] - INFO    DUT ignore busy is set to 0\n",
      "2023-05-17 15:31:38,579 [Trigger Controller] - INFO    Set internal trigger frequency to: 0 Hz\n"
     ]
    }
   ],
   "source": [
    "tlu.default_configuration()"
   ]
  },
  {
   "cell_type": "code",
   "execution_count": 3,
   "metadata": {},
   "outputs": [
    {
     "name": "stderr",
     "output_type": "stream",
     "text": [
      "2023-05-17 15:31:44,060 [AidaTLU           ] - INFO    Run active: True\n",
      "2023-05-17 15:31:44,062 [Trigger Controller] - INFO    Trigger Veto set to: False\n",
      "2023-05-17 15:31:53,101 [Trigger Controller] - INFO    Trigger Veto set to: True\n",
      "2023-05-17 15:31:53,102 [AidaTLU           ] - INFO    Run active: False\n",
      "2023-05-17 15:31:53,103 [AidaTLU           ] - INFO    Event handler\n",
      "2023-05-17 15:31:53,104 [AidaTLU           ] - SUCCESS Done\n"
     ]
    }
   ],
   "source": [
    "tlu.run()"
   ]
  }
 ],
 "metadata": {
  "kernelspec": {
   "display_name": "aidatlu",
   "language": "python",
   "name": "python3"
  },
  "language_info": {
   "codemirror_mode": {
    "name": "ipython",
    "version": 3
   },
   "file_extension": ".py",
   "mimetype": "text/x-python",
   "name": "python",
   "nbconvert_exporter": "python",
   "pygments_lexer": "ipython3",
   "version": "3.10.10"
  },
  "orig_nbformat": 4
 },
 "nbformat": 4,
 "nbformat_minor": 2
}
