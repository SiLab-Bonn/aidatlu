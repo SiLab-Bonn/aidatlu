{
 "cells": [
  {
   "cell_type": "code",
   "execution_count": 1,
   "metadata": {},
   "outputs": [],
   "source": [
    "import uhal\n",
    "\n",
    "from tlu import AidaTLU\n",
    "from utils import _set_bit\n",
    "from led_controller import LEDControl\n",
    "import time\n",
    "import logger"
   ]
  },
  {
   "cell_type": "code",
   "execution_count": 2,
   "metadata": {},
   "outputs": [
    {
     "name": "stderr",
     "output_type": "stream",
     "text": [
      "2023-04-24 14:41:43,280 [I2CCore       ] - WARNING Enabling Enclustra I2C bus might have failed. This could prevent from talking to the I2C slaves on the TLU.\n",
      "2023-04-24 14:41:43,419 [AidaTLU       ] - INFO    Found device with ID 0x801f12f1c81b\n",
      "2023-04-24 14:41:43,437 [Voltage Controller] - INFO    Set external DAC reference\n"
     ]
    }
   ],
   "source": [
    "uhal.setLogLevelTo(uhal.LogLevel.NOTICE)\n",
    "manager = uhal.ConnectionManager(\"file://./misc/aida_tlu_connection.xml\")\n",
    "hw = uhal.HwInterface(manager.getDevice(\"aida_tlu.controlhub\"))\n",
    "\n",
    "tlu = AidaTLU(hw)"
   ]
  },
  {
   "cell_type": "code",
   "execution_count": 9,
   "metadata": {},
   "outputs": [
    {
     "data": {
      "text/plain": [
       "0"
      ]
     },
     "execution_count": 9,
     "metadata": {},
     "output_type": "execute_result"
    }
   ],
   "source": [
    "tlu.get_internal_trigger_frequency()"
   ]
  },
  {
   "cell_type": "code",
   "execution_count": 11,
   "metadata": {},
   "outputs": [
    {
     "ename": "TypeError",
     "evalue": "getNode(): incompatible function arguments. The following argument types are supported:\n    1. (self: uhal._core.HwInterface) -> uhal._core.Node\n    2. (self: uhal._core.HwInterface, arg0: str) -> uhal._core.Node\n\nInvoked with: <uhal._core.HwInterface object at 0x7fd33430e230>, 28",
     "output_type": "error",
     "traceback": [
      "\u001b[0;31m---------------------------------------------------------------------------\u001b[0m",
      "\u001b[0;31mTypeError\u001b[0m                                 Traceback (most recent call last)",
      "Cell \u001b[0;32mIn[11], line 1\u001b[0m\n\u001b[0;32m----> 1\u001b[0m tlu\u001b[39m.\u001b[39;49mi2c\u001b[39m.\u001b[39;49mread_register(tlu\u001b[39m.\u001b[39;49mi2c\u001b[39m.\u001b[39;49mmodules[\u001b[39m\"\u001b[39;49m\u001b[39mpwr_dac\u001b[39;49m\u001b[39m\"\u001b[39;49m])\n",
      "File \u001b[0;32m~/software/aidatlu/aidatlu/i2c.py:82\u001b[0m, in \u001b[0;36mI2CCore.read_register\u001b[0;34m(self, register)\u001b[0m\n\u001b[1;32m     78\u001b[0m \u001b[39m\u001b[39m\u001b[39m\"\"\"\u001b[39;00m\n\u001b[1;32m     79\u001b[0m \u001b[39m    register: str  Name of node in address file\u001b[39;00m\n\u001b[1;32m     80\u001b[0m \u001b[39m\"\"\"\u001b[39;00m\n\u001b[1;32m     81\u001b[0m \u001b[39mtry\u001b[39;00m:\n\u001b[0;32m---> 82\u001b[0m     ret \u001b[39m=\u001b[39m \u001b[39mself\u001b[39;49m\u001b[39m.\u001b[39;49mi2c_hw\u001b[39m.\u001b[39;49mgetNode(register)\u001b[39m.\u001b[39mread()\n\u001b[1;32m     83\u001b[0m     \u001b[39mself\u001b[39m\u001b[39m.\u001b[39mi2c_hw\u001b[39m.\u001b[39mdispatch()\n\u001b[1;32m     84\u001b[0m     \u001b[39mif\u001b[39;00m ret\u001b[39m.\u001b[39mvalid():\n",
      "\u001b[0;31mTypeError\u001b[0m: getNode(): incompatible function arguments. The following argument types are supported:\n    1. (self: uhal._core.HwInterface) -> uhal._core.Node\n    2. (self: uhal._core.HwInterface, arg0: str) -> uhal._core.Node\n\nInvoked with: <uhal._core.HwInterface object at 0x7fd33430e230>, 28"
     ]
    }
   ],
   "source": [
    "tlu.i2c.read_register(tlu.i2c.modules[\"pwr_dac\"])"
   ]
  },
  {
   "cell_type": "code",
   "execution_count": 8,
   "metadata": {},
   "outputs": [],
   "source": [
    "tlu.set_internal_trigger_interval(1)"
   ]
  },
  {
   "cell_type": "code",
   "execution_count": 5,
   "metadata": {},
   "outputs": [
    {
     "name": "stderr",
     "output_type": "stream",
     "text": [
      "2023-04-24 13:59:05,785 [AidaTLU       ] - INFO    Internal frequency: 0\n"
     ]
    }
   ],
   "source": [
    "tlu.set_internal_trigger_frequency(10000000)"
   ]
  },
  {
   "cell_type": "code",
   "execution_count": 79,
   "metadata": {},
   "outputs": [],
   "source": [
    "tlu.voltage_controller.set_all_voltage(0)"
   ]
  },
  {
   "cell_type": "code",
   "execution_count": 80,
   "metadata": {},
   "outputs": [
    {
     "name": "stderr",
     "output_type": "stream",
     "text": [
      "2023-04-24 13:18:58,032 [Voltage Controller] - INFO    Set external DAC reference\n"
     ]
    }
   ],
   "source": [
    "tlu.voltage_controller._set_dac_reference(False)"
   ]
  },
  {
   "cell_type": "code",
   "execution_count": 83,
   "metadata": {},
   "outputs": [],
   "source": [
    "tlu.voltage_controller.set_voltage(0,0)"
   ]
  },
  {
   "cell_type": "code",
   "execution_count": 9,
   "metadata": {},
   "outputs": [],
   "source": [
    "tlu.led_controller.switch_led(3,\"off\")"
   ]
  },
  {
   "cell_type": "code",
   "execution_count": 5,
   "metadata": {},
   "outputs": [],
   "source": [
    "tlu.led_controller.test_leds()"
   ]
  },
  {
   "cell_type": "code",
   "execution_count": null,
   "metadata": {},
   "outputs": [],
   "source": []
  }
 ],
 "metadata": {
  "kernelspec": {
   "display_name": "aidatlu",
   "language": "python",
   "name": "python3"
  },
  "language_info": {
   "codemirror_mode": {
    "name": "ipython",
    "version": 3
   },
   "file_extension": ".py",
   "mimetype": "text/x-python",
   "name": "python",
   "nbconvert_exporter": "python",
   "pygments_lexer": "ipython3",
   "version": "3.10.10"
  },
  "orig_nbformat": 4
 },
 "nbformat": 4,
 "nbformat_minor": 2
}
