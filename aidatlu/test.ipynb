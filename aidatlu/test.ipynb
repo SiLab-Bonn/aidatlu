{
 "cells": [
  {
   "cell_type": "code",
   "execution_count": 1,
   "metadata": {},
   "outputs": [],
   "source": [
    "import uhal\n",
    "\n",
    "from tlu import AidaTLU\n",
    "import time\n",
    "import logger\n",
    "import pandas as pd\n",
    "import numpy as np"
   ]
  },
  {
   "cell_type": "code",
   "execution_count": 1,
   "metadata": {},
   "outputs": [
    {
     "name": "stderr",
     "output_type": "stream",
     "text": [
      "2023-05-16 15:13:18,557 [I2CCore           ] - WARNING Enabling Enclustra I2C bus might have failed. This could prevent from talking to the I2C slaves on the TLU.\n",
      "2023-05-16 15:13:18,659 [AidaTLU           ] - INFO    Found device with ID 0x801f12f1c81b\n",
      "2023-05-16 15:13:18,660 [Clock Controller  ] - INFO    Initializing Clock Chip\n",
      "2023-05-16 15:13:18,661 [Clock Controller  ] - INFO    Writing clock configuration\n",
      "2023-05-16 15:13:20,020 [Clock Controller  ] - SUCCESS Done writing clock configuration \n",
      "2023-05-16 15:13:20,021 [IO Expander       ] - INFO    Initializing IO expander\n",
      "2023-05-16 15:13:20,062 [Voltage Controller] - INFO    Initializing DAC Control\n",
      "2023-05-16 15:13:20,069 [Voltage Controller] - INFO    Set external DAC reference\n",
      "2023-05-16 15:13:20,072 [Voltage Controller] - INFO    Set external DAC reference\n",
      "2023-05-16 15:13:20,074 [Voltage Controller] - INFO    Set external DAC reference\n",
      "2023-05-16 15:13:20,090 [IO Expander       ] - INFO    Clock LEMO output disabled\n",
      "2023-05-16 15:13:20,103 [IO Expander       ] - INFO    HDMI Channel 1 disabled\n",
      "2023-05-16 15:13:20,120 [IO Expander       ] - INFO    HDMI Channel 2 disabled\n",
      "2023-05-16 15:13:20,137 [IO Expander       ] - INFO    HDMI Channel 3 disabled\n",
      "2023-05-16 15:13:20,153 [IO Expander       ] - INFO    HDMI Channel 4 disabled\n",
      "2023-05-16 15:13:20,168 [Voltage Controller] - INFO    Threshold of input 1 set to 1.2 V\n",
      "2023-05-16 15:13:20,170 [Voltage Controller] - INFO    Threshold of input 2 set to 1.2 V\n",
      "2023-05-16 15:13:20,174 [Voltage Controller] - INFO    Threshold of input 3 set to 1.2 V\n",
      "2023-05-16 15:13:20,176 [Voltage Controller] - INFO    Threshold of input 4 set to 1.2 V\n",
      "2023-05-16 15:13:20,178 [Voltage Controller] - INFO    Threshold of input 5 set to 1.2 V\n",
      "2023-05-16 15:13:20,185 [Voltage Controller] - INFO    Threshold of input 6 set to 1.2 V\n",
      "2023-05-16 15:13:20,186 [AidaTLU           ] - INFO    Run active: False\n",
      "2023-05-16 15:13:20,188 [Trigger Controller] - INFO    Trigger Veto set to: True\n"
     ]
    }
   ],
   "source": [
    "import uhal\n",
    "\n",
    "from tlu import AidaTLU\n",
    "import time\n",
    "import logger\n",
    "import pandas as pd\n",
    "import numpy as np\n",
    "\n",
    "uhal.setLogLevelTo(uhal.LogLevel.NOTICE)\n",
    "manager = uhal.ConnectionManager(\"file://./misc/aida_tlu_connection.xml\")\n",
    "hw = uhal.HwInterface(manager.getDevice(\"aida_tlu.controlhub\"))\n",
    "\n",
    "tlu = AidaTLU(hw)\n"
   ]
  },
  {
   "cell_type": "code",
   "execution_count": 6,
   "metadata": {},
   "outputs": [
    {
     "name": "stderr",
     "output_type": "stream",
     "text": [
      "2023-05-16 15:13:54,350 [IO Expander       ] - INFO    HDMI Channel 1 enabled\n",
      "2023-05-16 15:13:54,364 [IO Expander       ] - INFO    HDMI Channel 2 enabled\n",
      "2023-05-16 15:13:54,375 [IO Expander       ] - INFO    HDMI Channel 3 enabled\n",
      "2023-05-16 15:13:54,387 [IO Expander       ] - INFO    HDMI Channel 4 enabled\n",
      "2023-05-16 15:13:54,391 [IO Expander       ] - INFO    Clock source of HDMI Channel 1 set to off.\n",
      "2023-05-16 15:13:54,396 [IO Expander       ] - INFO    Clock source of HDMI Channel 2 set to off.\n",
      "2023-05-16 15:13:54,400 [IO Expander       ] - INFO    Clock source of HDMI Channel 3 set to off.\n",
      "2023-05-16 15:13:54,404 [IO Expander       ] - INFO    Clock source of HDMI Channel 4 set to off.\n",
      "2023-05-16 15:13:54,405 [Trigger Controller] - INFO    Pulse stretch is set to 34636833\n",
      "2023-05-16 15:13:54,407 [Trigger Controller] - INFO    Pulse Delay is set to 0\n",
      "2023-05-16 15:13:54,408 [Trigger Controller] - INFO    Trigger mask: 2\n",
      "2023-05-16 15:13:54,410 [Trigger Controller] - INFO    Trigger on falling edge\n",
      "2023-05-16 15:13:54,411 [DUT Logic         ] - INFO    DUT mask set to 1\n",
      "2023-05-16 15:13:54,412 [DUT Logic         ] - INFO    DUT mask mode is set to 0\n",
      "2023-05-16 15:13:54,413 [DUT Logic         ] - INFO    DUT mask mode modifier is set to 0\n",
      "2023-05-16 15:13:54,414 [DUT Logic         ] - INFO    DUT ignore busy is set to 0\n",
      "2023-05-16 15:13:54,416 [Trigger Controller] - INFO    Set internal trigger frequency to: 1000 Hz\n",
      "2023-05-16 15:13:54,419 [Voltage Controller] - INFO    Threshold of input 1 set to -0.04 V\n",
      "2023-05-16 15:13:54,422 [Voltage Controller] - INFO    Threshold of input 2 set to -0.04 V\n",
      "2023-05-16 15:13:54,425 [Voltage Controller] - INFO    Threshold of input 3 set to -0.04 V\n",
      "2023-05-16 15:13:54,428 [Voltage Controller] - INFO    Threshold of input 4 set to -0.04 V\n",
      "2023-05-16 15:13:54,431 [Voltage Controller] - INFO    Threshold of input 5 set to -0.2 V\n",
      "2023-05-16 15:13:54,434 [Voltage Controller] - INFO    Threshold of input 6 set to -0.2 V\n"
     ]
    }
   ],
   "source": [
    "test_stretch = [1,1,1,1,1,1]\n",
    "test_delay = [0,0,0,0,0,0] \n",
    "\n",
    "tlu.io_controller.configure_hdmi(1, '0111')\n",
    "tlu.io_controller.configure_hdmi(2, '0111')\n",
    "tlu.io_controller.configure_hdmi(3, '0111')\n",
    "tlu.io_controller.configure_hdmi(4, '0111')\n",
    "tlu.io_controller.clock_hdmi_output(1, 'off')\n",
    "tlu.io_controller.clock_hdmi_output(2, 'off')\n",
    "tlu.io_controller.clock_hdmi_output(3, 'off')\n",
    "tlu.io_controller.clock_hdmi_output(4, 'off')\n",
    "tlu.io_controller.clock_lemo_output(False)\n",
    "tlu.trigger_logic.set_pulse_stretch_pack(test_stretch)\n",
    "tlu.trigger_logic.set_pulse_delay_pack(test_delay)\n",
    "tlu.trigger_logic.set_trigger_mask(mask_high=0x00000000, mask_low=0x00000002)\n",
    "tlu.trigger_logic.set_trigger_polarity(1)\n",
    "tlu.dut_logic.set_dut_mask('0001')\n",
    "tlu.dut_logic.set_dut_mask_mode('00000000')\n",
    "tlu.dut_logic.set_dut_mask_mode_modifier(0)\n",
    "tlu.dut_logic.set_dut_ignore_busy(0)\n",
    "tlu.dut_logic.set_dut_ignore_shutter(0x1)\n",
    "tlu.trigger_logic.set_internal_trigger_frequency(1000)\n",
    "tlu.voltage_controller.set_threshold(1, -0.04)\n",
    "tlu.voltage_controller.set_threshold(2, -0.04)\n",
    "tlu.voltage_controller.set_threshold(3, -0.04)\n",
    "tlu.voltage_controller.set_threshold(4, -0.04)\n",
    "tlu.voltage_controller.set_threshold(5, -0.2)\n",
    "tlu.voltage_controller.set_threshold(6, -0.2)"
   ]
  },
  {
   "cell_type": "code",
   "execution_count": 11,
   "metadata": {},
   "outputs": [
    {
     "name": "stderr",
     "output_type": "stream",
     "text": [
      "2023-05-16 15:25:42,767 [IO Expander       ] - INFO    HDMI Channel 1 enabled\n",
      "2023-05-16 15:25:42,783 [IO Expander       ] - INFO    HDMI Channel 2 enabled\n",
      "2023-05-16 15:25:42,812 [IO Expander       ] - INFO    HDMI Channel 3 enabled\n",
      "2023-05-16 15:25:42,839 [IO Expander       ] - INFO    HDMI Channel 4 enabled\n",
      "2023-05-16 15:25:42,842 [IO Expander       ] - INFO    Clock source of HDMI Channel 1 set to off.\n",
      "2023-05-16 15:25:42,855 [IO Expander       ] - INFO    Clock source of HDMI Channel 2 set to off.\n",
      "2023-05-16 15:25:42,876 [IO Expander       ] - INFO    Clock source of HDMI Channel 3 set to off.\n",
      "2023-05-16 15:25:42,896 [IO Expander       ] - INFO    Clock source of HDMI Channel 4 set to off.\n",
      "2023-05-16 15:25:42,898 [Trigger Controller] - INFO    Pulse stretch is set to 34636833\n",
      "2023-05-16 15:25:42,902 [Trigger Controller] - INFO    Pulse Delay is set to 0\n",
      "2023-05-16 15:25:42,903 [Trigger Controller] - INFO    Trigger mask: 2\n",
      "2023-05-16 15:25:42,907 [Trigger Controller] - INFO    Trigger on falling edge\n",
      "2023-05-16 15:25:42,907 [Trigger Controller] - INFO    Set internal trigger frequency to: 0 Hz\n",
      "2023-05-16 15:25:42,909 [DUT Logic         ] - INFO    DUT mask set to 1\n",
      "2023-05-16 15:25:42,911 [DUT Logic         ] - INFO    DUT mask mode is set to 0\n",
      "2023-05-16 15:25:42,913 [DUT Logic         ] - INFO    DUT mask mode modifier is set to 0\n",
      "2023-05-16 15:25:42,915 [DUT Logic         ] - INFO    DUT ignore busy is set to 0\n",
      "2023-05-16 15:25:42,922 [Voltage Controller] - INFO    Threshold of input 1 set to -0.04 V\n",
      "2023-05-16 15:25:42,928 [Voltage Controller] - INFO    Threshold of input 2 set to -0.04 V\n",
      "2023-05-16 15:25:42,936 [Voltage Controller] - INFO    Threshold of input 3 set to -0.04 V\n",
      "2023-05-16 15:25:42,953 [Voltage Controller] - INFO    Threshold of input 4 set to -0.04 V\n",
      "2023-05-16 15:25:42,962 [Voltage Controller] - INFO    Threshold of input 5 set to -0.2 V\n",
      "2023-05-16 15:25:42,971 [Voltage Controller] - INFO    Threshold of input 6 set to -0.2 V\n"
     ]
    }
   ],
   "source": [
    "tlu.default_configuration()"
   ]
  },
  {
   "cell_type": "code",
   "execution_count": 16,
   "metadata": {},
   "outputs": [
    {
     "name": "stderr",
     "output_type": "stream",
     "text": [
      "2023-05-16 15:26:44,007 [AidaTLU           ] - INFO    Run active: True\n",
      "2023-05-16 15:26:44,009 [Trigger Controller] - INFO    Trigger Veto set to: False\n",
      "2023-05-16 15:27:04,720 [Trigger Controller] - INFO    Trigger Veto set to: True\n",
      "2023-05-16 15:27:04,721 [AidaTLU           ] - INFO    Run active: False\n"
     ]
    }
   ],
   "source": [
    "tlu.run()"
   ]
  },
  {
   "cell_type": "code",
   "execution_count": 17,
   "metadata": {},
   "outputs": [
    {
     "name": "stderr",
     "output_type": "stream",
     "text": [
      "2023-05-16 15:27:33,946 [IO Expander       ] - INFO    Clock LEMO output disabled\n",
      "2023-05-16 15:27:33,961 [IO Expander       ] - INFO    HDMI Channel 1 disabled\n",
      "2023-05-16 15:27:33,993 [IO Expander       ] - INFO    HDMI Channel 2 disabled\n",
      "2023-05-16 15:27:34,017 [IO Expander       ] - INFO    HDMI Channel 3 disabled\n",
      "2023-05-16 15:27:34,045 [IO Expander       ] - INFO    HDMI Channel 4 disabled\n",
      "2023-05-16 15:27:34,061 [Voltage Controller] - INFO    Threshold of input 1 set to 1.2 V\n",
      "2023-05-16 15:27:34,064 [Voltage Controller] - INFO    Threshold of input 2 set to 1.2 V\n",
      "2023-05-16 15:27:34,068 [Voltage Controller] - INFO    Threshold of input 3 set to 1.2 V\n",
      "2023-05-16 15:27:34,071 [Voltage Controller] - INFO    Threshold of input 4 set to 1.2 V\n",
      "2023-05-16 15:27:34,079 [Voltage Controller] - INFO    Threshold of input 5 set to 1.2 V\n",
      "2023-05-16 15:27:34,083 [Voltage Controller] - INFO    Threshold of input 6 set to 1.2 V\n",
      "2023-05-16 15:27:34,085 [AidaTLU           ] - INFO    Run active: False\n",
      "2023-05-16 15:27:34,088 [Trigger Controller] - INFO    Trigger Veto set to: True\n"
     ]
    }
   ],
   "source": [
    "tlu.all_off()"
   ]
  },
  {
   "cell_type": "code",
   "execution_count": null,
   "metadata": {},
   "outputs": [],
   "source": []
  }
 ],
 "metadata": {
  "kernelspec": {
   "display_name": "aidatlu",
   "language": "python",
   "name": "python3"
  },
  "language_info": {
   "codemirror_mode": {
    "name": "ipython",
    "version": 3
   },
   "file_extension": ".py",
   "mimetype": "text/x-python",
   "name": "python",
   "nbconvert_exporter": "python",
   "pygments_lexer": "ipython3",
   "version": "3.10.10"
  },
  "orig_nbformat": 4
 },
 "nbformat": 4,
 "nbformat_minor": 2
}
