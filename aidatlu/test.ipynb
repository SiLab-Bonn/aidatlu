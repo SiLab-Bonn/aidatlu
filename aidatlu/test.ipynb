{
 "cells": [
  {
   "cell_type": "code",
   "execution_count": 1,
   "metadata": {},
   "outputs": [],
   "source": [
    "import uhal\n",
    "\n",
    "from tlu import AidaTLU\n",
    "import time\n",
    "import logger\n",
    "import pandas as pd"
   ]
  },
  {
   "cell_type": "code",
   "execution_count": 2,
   "metadata": {},
   "outputs": [
    {
     "name": "stderr",
     "output_type": "stream",
     "text": [
      "2023-04-25 13:48:31,099 [I2CCore           ] - WARNING Enabling Enclustra I2C bus might have failed. This could prevent from talking to the I2C slaves on the TLU.\n",
      "2023-04-25 13:48:31,234 [AidaTLU           ] - INFO    Found device with ID 0x801f12f1c81b\n",
      "2023-04-25 13:48:31,234 [LED Controller    ] - INFO    Initializing LED Control\n",
      "2023-04-25 13:48:31,254 [Voltage Controller] - INFO    Initializing Power DAC Control\n",
      "2023-04-25 13:48:31,257 [Voltage Controller] - INFO    Set external DAC reference\n",
      "2023-04-25 13:48:31,258 [Clock Controller  ] - INFO    Initializing Clock Chip\n",
      "2023-04-25 13:48:31,262 [Clock Controller  ] - INFO    Writing Clock Configuration\n",
      "2023-04-25 13:48:32,719 [Clock Controller  ] - INFO    DONE\n"
     ]
    }
   ],
   "source": [
    "uhal.setLogLevelTo(uhal.LogLevel.NOTICE)\n",
    "manager = uhal.ConnectionManager(\"file://./misc/aida_tlu_connection.xml\")\n",
    "hw = uhal.HwInterface(manager.getDevice(\"aida_tlu.controlhub\"))\n",
    "\n",
    "tlu = AidaTLU(hw)"
   ]
  },
  {
   "cell_type": "code",
   "execution_count": 6,
   "metadata": {},
   "outputs": [
    {
     "data": {
      "text/plain": [
       "140870950176795"
      ]
     },
     "execution_count": 6,
     "metadata": {},
     "output_type": "execute_result"
    }
   ],
   "source": [
    "tlu.get_device_id()"
   ]
  },
  {
   "cell_type": "code",
   "execution_count": 5,
   "metadata": {},
   "outputs": [
    {
     "data": {
      "text/plain": [
       "93670105624625"
      ]
     },
     "execution_count": 5,
     "metadata": {},
     "output_type": "execute_result"
    }
   ],
   "source": [
    "\n",
    "\n",
    "tlu.clock_controller.check_design_id()"
   ]
  },
  {
   "cell_type": "code",
   "execution_count": 5,
   "metadata": {},
   "outputs": [],
   "source": [
    "tlu.voltage_controller.set_threshold(0,0)"
   ]
  },
  {
   "cell_type": "code",
   "execution_count": 8,
   "metadata": {},
   "outputs": [],
   "source": [
    "tlu.set_internal_trigger_interval(1)"
   ]
  },
  {
   "cell_type": "code",
   "execution_count": 79,
   "metadata": {},
   "outputs": [],
   "source": [
    "tlu.voltage_controller.set_all_voltage(0)"
   ]
  },
  {
   "cell_type": "code",
   "execution_count": 80,
   "metadata": {},
   "outputs": [
    {
     "name": "stderr",
     "output_type": "stream",
     "text": [
      "2023-04-24 13:18:58,032 [Voltage Controller] - INFO    Set external DAC reference\n"
     ]
    }
   ],
   "source": [
    "tlu.voltage_controller._set_dac_reference(False)"
   ]
  },
  {
   "cell_type": "code",
   "execution_count": 83,
   "metadata": {},
   "outputs": [],
   "source": [
    "tlu.voltage_controller.set_voltage(0,0)"
   ]
  },
  {
   "cell_type": "code",
   "execution_count": 9,
   "metadata": {},
   "outputs": [],
   "source": [
    "tlu.led_controller.switch_led(3,\"off\")"
   ]
  }
 ],
 "metadata": {
  "kernelspec": {
   "display_name": "aidatlu",
   "language": "python",
   "name": "python3"
  },
  "language_info": {
   "codemirror_mode": {
    "name": "ipython",
    "version": 3
   },
   "file_extension": ".py",
   "mimetype": "text/x-python",
   "name": "python",
   "nbconvert_exporter": "python",
   "pygments_lexer": "ipython3",
   "version": "3.10.10"
  },
  "orig_nbformat": 4
 },
 "nbformat": 4,
 "nbformat_minor": 2
}
