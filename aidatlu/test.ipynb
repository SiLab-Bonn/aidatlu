{
 "cells": [
  {
   "cell_type": "code",
   "execution_count": 4,
   "metadata": {},
   "outputs": [
    {
     "name": "stderr",
     "output_type": "stream",
     "text": [
      "2023-05-04 15:53:21,116 [I2CCore           ] - WARNING Enabling Enclustra I2C bus might have failed. This could prevent from talking to the I2C slaves on the TLU.\n",
      "2023-05-04 15:53:21,242 [AidaTLU           ] - INFO    Found device with ID 0x801f12f1c81b\n",
      "2023-05-04 15:53:21,243 [LED Controller    ] - INFO    Initializing LED Control\n",
      "2023-05-04 15:53:21,269 [Voltage Controller] - INFO    Initializing Power DAC Control\n",
      "2023-05-04 15:53:21,274 [Voltage Controller] - INFO    Set external DAC reference\n",
      "2023-05-04 15:53:21,275 [Clock Controller  ] - INFO    Initializing Clock Chip\n",
      "2023-05-04 15:53:21,276 [Clock Controller  ] - INFO    Writing Clock Configuration\n",
      "2023-05-04 15:53:22,511 [Clock Controller  ] - INFO    DONE\n",
      "2023-05-04 15:53:22,535 [Output Controller ] - INFO    Clock LEMO output disabled\n"
     ]
    }
   ],
   "source": [
    "import uhal\n",
    "\n",
    "from tlu import AidaTLU\n",
    "import time\n",
    "import logger\n",
    "import pandas as pd\n",
    "import numpy as np\n",
    "\n",
    "uhal.setLogLevelTo(uhal.LogLevel.NOTICE)\n",
    "manager = uhal.ConnectionManager(\"file://./misc/aida_tlu_connection.xml\")\n",
    "hw = uhal.HwInterface(manager.getDevice(\"aida_tlu.controlhub\"))\n",
    "\n",
    "tlu = AidaTLU(hw)\n"
   ]
  },
  {
   "cell_type": "code",
   "execution_count": 14,
   "metadata": {},
   "outputs": [
    {
     "name": "stderr",
     "output_type": "stream",
     "text": [
      "2023-05-04 16:22:57,125 [Output Controller ] - INFO    Clock LEMO output disabled\n"
     ]
    }
   ],
   "source": [
    "tlu.output_controller.clock_lemo_output(False)"
   ]
  },
  {
   "cell_type": "code",
   "execution_count": 13,
   "metadata": {},
   "outputs": [
    {
     "name": "stderr",
     "output_type": "stream",
     "text": [
      "2023-05-04 16:19:10,309 [Output Controller ] - INFO    Clock LEMO output enabled\n"
     ]
    }
   ],
   "source": [
    "tlu.output_controller.clock_lemo_output()"
   ]
  },
  {
   "cell_type": "code",
   "execution_count": null,
   "metadata": {},
   "outputs": [],
   "source": []
  }
 ],
 "metadata": {
  "kernelspec": {
   "display_name": "aidatlu",
   "language": "python",
   "name": "python3"
  },
  "language_info": {
   "codemirror_mode": {
    "name": "ipython",
    "version": 3
   },
   "file_extension": ".py",
   "mimetype": "text/x-python",
   "name": "python",
   "nbconvert_exporter": "python",
   "pygments_lexer": "ipython3",
   "version": "3.10.10"
  },
  "orig_nbformat": 4
 },
 "nbformat": 4,
 "nbformat_minor": 2
}
